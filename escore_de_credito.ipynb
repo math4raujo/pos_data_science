{
 "cells": [
  {
   "cell_type": "markdown",
   "id": "987e3030-1a1e-485a-b8d7-941c47710fe3",
   "metadata": {},
   "source": [
    "O dataset utilizado está disponível em: [https://www.kaggle.com/datasets/nikhil1e9/loan-default/]"
   ]
  },
  {
   "cell_type": "code",
   "execution_count": 184,
   "id": "d5666df9-dd73-4af8-8064-a03be2332e51",
   "metadata": {},
   "outputs": [],
   "source": [
    "import pandas as pd\n",
    "import numpy as np\n",
    "from seaborn import load_dataset\n",
    "import seaborn as sns\n",
    "import matplotlib.pyplot as plt\n",
    "import warnings\n",
    "from sklearn.model_selection import train_test_split\n",
    "from sklearn.model_selection import cross_val_score\n",
    "from sklearn.tree import DecisionTreeClassifier\n",
    "from sklearn.ensemble import RandomForestClassifier, ExtraTreesClassifier\n",
    "from sklearn.preprocessing import LabelEncoder\n",
    "from sklearn.svm import SVC\n",
    "from xgboost import XGBClassifier\n",
    "from sklearn.linear_model import LogisticRegression\n",
    "from sklearn.preprocessing import StandardScaler, MinMaxScaler\n",
    "from sklearn.neural_network import MLPClassifier\n",
    "from lightgbm import LGBMClassifier\n",
    "from sklearn.feature_selection import RFECV\n",
    "from sklearn.metrics import classification_report, confusion_matrix\n",
    "from sklearn.metrics import roc_auc_score\n",
    "from scipy.stats import ks_2samp\n",
    "\n",
    "warnings.filterwarnings('ignore')"
   ]
  },
  {
   "cell_type": "code",
   "execution_count": 185,
   "id": "ca8abc39-afb2-4121-a71b-7382bf604981",
   "metadata": {},
   "outputs": [],
   "source": [
    "df = pd.read_csv(\"../Pitch/archive/Loan_default.csv\")"
   ]
  },
  {
   "cell_type": "code",
   "execution_count": 186,
   "id": "9dd84a14-ac0b-4ae8-a581-01003a169497",
   "metadata": {
    "tags": []
   },
   "outputs": [
    {
     "data": {
      "text/plain": [
       "Index(['LoanID', 'Age', 'Income', 'LoanAmount', 'CreditScore',\n",
       "       'MonthsEmployed', 'NumCreditLines', 'InterestRate', 'LoanTerm',\n",
       "       'DTIRatio', 'Education', 'EmploymentType', 'MaritalStatus',\n",
       "       'HasMortgage', 'HasDependents', 'LoanPurpose', 'HasCoSigner',\n",
       "       'Default'],\n",
       "      dtype='object')"
      ]
     },
     "execution_count": 186,
     "metadata": {},
     "output_type": "execute_result"
    }
   ],
   "source": [
    "df.columns"
   ]
  },
  {
   "cell_type": "markdown",
   "id": "521be282-8cba-465e-9485-a3774a08bc77",
   "metadata": {},
   "source": [
    "**Descrição das colunas**\n",
    "</br>LoanID: identificação do devedor, \n",
    "</br>Age: Idade, \n",
    "</br>Income: Renda anual, \n",
    "</br>LoanAmount: valor da dívida, \n",
    "</br>CreditScore: Escore de crédito da dívida,\n",
    "</br>MonthsEmployed: Meses empregado, \n",
    "</br>NumCreditLines: Número de linhas de crédito abertas, \n",
    "</br>InterestRate: taxa de juros dívida, \n",
    "</br>LoanTerm: Prazo para pagar a dívida em meses,\n",
    "</br>DTIRatio: dívida em relação ao rendimento,\n",
    "</br>Education: formação / nível máximo de educação,\n",
    "</br>EmploymentType: ocupação,\n",
    "</br>MaritalStatus: estado cívil,\n",
    "</br>HasMortgage: tem hipoteca (garantia?),\n",
    "</br>HasDependents: Tem dependentes,\n",
    "</br>LoanPurpose: propósito / motivo da dívida,\n",
    "</br>HasCoSigner: tem fiador,\n",
    "</br>Default: variável resposta - 1 se mau, 0 se bom"
   ]
  },
  {
   "cell_type": "code",
   "execution_count": null,
   "id": "45216207-a525-461b-a8a1-189672528520",
   "metadata": {},
   "outputs": [],
   "source": []
  },
  {
   "cell_type": "code",
   "execution_count": 187,
   "id": "592783ca-ce0b-4fac-9fe2-8b469cddda73",
   "metadata": {},
   "outputs": [
    {
     "name": "stdout",
     "output_type": "stream",
     "text": [
      "Qtd. de linhas 255347 / Qtd. de colunas 18\n"
     ]
    }
   ],
   "source": [
    "print(f\"Qtd. de linhas {df.shape[0]} / Qtd. de colunas {df.shape[1]}\")"
   ]
  },
  {
   "cell_type": "code",
   "execution_count": null,
   "id": "ef68a161-19bf-473f-b182-f269aa829a36",
   "metadata": {},
   "outputs": [],
   "source": []
  },
  {
   "cell_type": "code",
   "execution_count": null,
   "id": "3ee1495d-7f7f-48f2-8198-0b5443f7efd9",
   "metadata": {},
   "outputs": [],
   "source": []
  },
  {
   "cell_type": "code",
   "execution_count": null,
   "id": "03c75fe8-c00c-42ae-96e5-98f804c4c1b3",
   "metadata": {},
   "outputs": [],
   "source": []
  },
  {
   "cell_type": "markdown",
   "id": "4ca4811d-88c1-4947-b55f-a80c440c3758",
   "metadata": {
    "tags": []
   },
   "source": [
    "#### Balanceamento do dataset\n",
    "Aproximadamente 1:9, não é um desbalanceamento tão grande. Avaliar"
   ]
  },
  {
   "cell_type": "code",
   "execution_count": 6,
   "id": "0e486efc-52e5-4849-bf9a-6021ad1650bb",
   "metadata": {},
   "outputs": [
    {
     "data": {
      "text/plain": [
       "<AxesSubplot:>"
      ]
     },
     "execution_count": 6,
     "metadata": {},
     "output_type": "execute_result"
    },
    {
     "data": {
      "image/png": "[encoded data removed]",
      "text/plain": [
       "<Figure size 640x480 with 1 Axes>"
      ]
     },
     "metadata": {},
     "output_type": "display_data"
    }
   ],
   "source": [
    "df['Default'].value_counts(normalize=True).plot(kind=\"bar\")"
   ]
  },
  {
   "cell_type": "code",
   "execution_count": 6,
   "id": "6b80a53b-a3e5-4846-9891-47ac270573fd",
   "metadata": {},
   "outputs": [
    {
     "data": {
      "text/plain": [
       "0.11612824901017048"
      ]
     },
     "execution_count": 6,
     "metadata": {},
     "output_type": "execute_result"
    }
   ],
   "source": [
    "# Percentual de clientes maus na base\n",
    "df[df['Default'] == 1]['Default'].count() / df.shape[0]#"
   ]
  },
  {
   "cell_type": "code",
   "execution_count": 7,
   "id": "71b03e9b-c25e-4d69-9877-c59ae547f1ca",
   "metadata": {},
   "outputs": [
    {
     "data": {
      "text/html": [
       "<div>\n",
       "<style scoped>\n",
       "    .dataframe tbody tr th:only-of-type {\n",
       "        vertical-align: middle;\n",
       "    }\n",
       "\n",
       "    .dataframe tbody tr th {\n",
       "        vertical-align: top;\n",
       "    }\n",
       "\n",
       "    .dataframe thead th {\n",
       "        text-align: right;\n",
       "    }\n",
       "</style>\n",
       "<table border=\"1\" class=\"dataframe\">\n",
       "  <thead>\n",
       "    <tr style=\"text-align: right;\">\n",
       "      <th></th>\n",
       "      <th>LoanID</th>\n",
       "      <th>Age</th>\n",
       "      <th>Income</th>\n",
       "      <th>LoanAmount</th>\n",
       "      <th>CreditScore</th>\n",
       "      <th>MonthsEmployed</th>\n",
       "      <th>NumCreditLines</th>\n",
       "      <th>InterestRate</th>\n",
       "      <th>LoanTerm</th>\n",
       "      <th>DTIRatio</th>\n",
       "      <th>Education</th>\n",
       "      <th>EmploymentType</th>\n",
       "      <th>MaritalStatus</th>\n",
       "      <th>HasMortgage</th>\n",
       "      <th>HasDependents</th>\n",
       "      <th>LoanPurpose</th>\n",
       "      <th>HasCoSigner</th>\n",
       "      <th>Default</th>\n",
       "    </tr>\n",
       "  </thead>\n",
       "  <tbody>\n",
       "    <tr>\n",
       "      <th>0</th>\n",
       "      <td>I38PQUQS96</td>\n",
       "      <td>56</td>\n",
       "      <td>85994</td>\n",
       "      <td>50587</td>\n",
       "      <td>520</td>\n",
       "      <td>80</td>\n",
       "      <td>4</td>\n",
       "      <td>15.23</td>\n",
       "      <td>36</td>\n",
       "      <td>0.44</td>\n",
       "      <td>Bachelor's</td>\n",
       "      <td>Full-time</td>\n",
       "      <td>Divorced</td>\n",
       "      <td>Yes</td>\n",
       "      <td>Yes</td>\n",
       "      <td>Other</td>\n",
       "      <td>Yes</td>\n",
       "      <td>0</td>\n",
       "    </tr>\n",
       "    <tr>\n",
       "      <th>1</th>\n",
       "      <td>HPSK72WA7R</td>\n",
       "      <td>69</td>\n",
       "      <td>50432</td>\n",
       "      <td>124440</td>\n",
       "      <td>458</td>\n",
       "      <td>15</td>\n",
       "      <td>1</td>\n",
       "      <td>4.81</td>\n",
       "      <td>60</td>\n",
       "      <td>0.68</td>\n",
       "      <td>Master's</td>\n",
       "      <td>Full-time</td>\n",
       "      <td>Married</td>\n",
       "      <td>No</td>\n",
       "      <td>No</td>\n",
       "      <td>Other</td>\n",
       "      <td>Yes</td>\n",
       "      <td>0</td>\n",
       "    </tr>\n",
       "  </tbody>\n",
       "</table>\n",
       "</div>"
      ],
      "text/plain": [
       "       LoanID  Age  Income  LoanAmount  CreditScore  MonthsEmployed  \\\n",
       "0  I38PQUQS96   56   85994       50587          520              80   \n",
       "1  HPSK72WA7R   69   50432      124440          458              15   \n",
       "\n",
       "   NumCreditLines  InterestRate  LoanTerm  DTIRatio   Education  \\\n",
       "0               4         15.23        36      0.44  Bachelor's   \n",
       "1               1          4.81        60      0.68    Master's   \n",
       "\n",
       "  EmploymentType MaritalStatus HasMortgage HasDependents LoanPurpose  \\\n",
       "0      Full-time      Divorced         Yes           Yes       Other   \n",
       "1      Full-time       Married          No            No       Other   \n",
       "\n",
       "  HasCoSigner  Default  \n",
       "0         Yes        0  \n",
       "1         Yes        0  "
      ]
     },
     "execution_count": 7,
     "metadata": {},
     "output_type": "execute_result"
    }
   ],
   "source": [
    "df.head(2)"
   ]
  },
  {
   "cell_type": "code",
   "execution_count": null,
   "id": "6d04a487-7510-402b-8e10-f8c61570067b",
   "metadata": {},
   "outputs": [],
   "source": []
  },
  {
   "cell_type": "markdown",
   "id": "6a1d5f83-f33c-4789-9528-6eb2d66a79cc",
   "metadata": {
    "tags": []
   },
   "source": [
    "#### Missing values"
   ]
  },
  {
   "cell_type": "code",
   "execution_count": 8,
   "id": "9f333a19-3b78-4862-a4e5-fb52064edcdb",
   "metadata": {},
   "outputs": [
    {
     "data": {
      "text/plain": [
       "LoanID            0\n",
       "Age               0\n",
       "Income            0\n",
       "LoanAmount        0\n",
       "CreditScore       0\n",
       "MonthsEmployed    0\n",
       "NumCreditLines    0\n",
       "InterestRate      0\n",
       "LoanTerm          0\n",
       "DTIRatio          0\n",
       "Education         0\n",
       "EmploymentType    0\n",
       "MaritalStatus     0\n",
       "HasMortgage       0\n",
       "HasDependents     0\n",
       "LoanPurpose       0\n",
       "HasCoSigner       0\n",
       "Default           0\n",
       "dtype: int64"
      ]
     },
     "execution_count": 8,
     "metadata": {},
     "output_type": "execute_result"
    }
   ],
   "source": [
    "df.isna().sum() # Não tem missing na base de dados"
   ]
  },
  {
   "cell_type": "code",
   "execution_count": null,
   "id": "eec7500c-5f88-410d-9d73-2bd118a76065",
   "metadata": {},
   "outputs": [],
   "source": []
  },
  {
   "cell_type": "markdown",
   "id": "465086b6-badb-467f-a906-512b12e7784b",
   "metadata": {},
   "source": [
    "#### Outliers"
   ]
  },
  {
   "cell_type": "code",
   "execution_count": 32,
   "id": "30e073fa-8e1e-4ab1-88b7-e9c64549ecc4",
   "metadata": {},
   "outputs": [],
   "source": [
    "# A metodologia que vou usar para modelar é sensível a outlier?\n",
    "# Se for uma regressão logística, preciso tratar\n",
    "# Técnicas sensíveis a escala"
   ]
  },
  {
   "cell_type": "code",
   "execution_count": 31,
   "id": "cea40b82-2194-4ee9-9f07-d217d96a3104",
   "metadata": {},
   "outputs": [],
   "source": [
    "# Preciso encontrar uma técnica para tirar os outliers, se houver"
   ]
  },
  {
   "cell_type": "markdown",
   "id": "db4598b7-adc8-471a-a8aa-2f47c2b30d9d",
   "metadata": {
    "tags": []
   },
   "source": [
    "##### Idade"
   ]
  },
  {
   "cell_type": "code",
   "execution_count": 13,
   "id": "14fc225e-658a-4159-a3ef-022cbb163189",
   "metadata": {},
   "outputs": [
    {
     "name": "stdout",
     "output_type": "stream",
     "text": [
      "Idade máxima: 69\n",
      "Idade mínima: 18\n"
     ]
    }
   ],
   "source": [
    "print(f\"Idade máxima: {df['Age'].max()}\")\n",
    "print(f\"Idade mínima: {df['Age'].min()}\")"
   ]
  },
  {
   "cell_type": "code",
   "execution_count": 11,
   "id": "c06ec628-d523-4ccf-9e01-0f7283ab5b38",
   "metadata": {},
   "outputs": [
    {
     "data": {
      "text/plain": [
       "{'whiskers': [<matplotlib.lines.Line2D at 0x239ac44c9d0>,\n",
       "  <matplotlib.lines.Line2D at 0x239ac46e3a0>],\n",
       " 'caps': [<matplotlib.lines.Line2D at 0x239ac46e730>,\n",
       "  <matplotlib.lines.Line2D at 0x239ac46eac0>],\n",
       " 'boxes': [<matplotlib.lines.Line2D at 0x239ac459d60>],\n",
       " 'medians': [<matplotlib.lines.Line2D at 0x239ac46ee50>],\n",
       " 'fliers': [<matplotlib.lines.Line2D at 0x239ac47a220>],\n",
       " 'means': []}"
      ]
     },
     "execution_count": 11,
     "metadata": {},
     "output_type": "execute_result"
    },
    {
     "data": {
      "image/png": "[encoded data removed]",
      "text/plain": [
       "<Figure size 640x480 with 1 Axes>"
      ]
     },
     "metadata": {},
     "output_type": "display_data"
    }
   ],
   "source": [
    "plt.boxplot(df['Age'])"
   ]
  },
  {
   "cell_type": "markdown",
   "id": "f40dca4b-2df7-4473-87f3-cbed4441aeae",
   "metadata": {},
   "source": [
    "Aparentemente a distribuição da idade na base é simétrica, vamos \"verificar\""
   ]
  },
  {
   "cell_type": "code",
   "execution_count": 19,
   "id": "0fd7cf08-5ec5-4e5a-b5d9-08930bc86216",
   "metadata": {},
   "outputs": [
    {
     "data": {
      "text/plain": [
       "<seaborn.axisgrid.FacetGrid at 0x239ac459a00>"
      ]
     },
     "execution_count": 19,
     "metadata": {},
     "output_type": "execute_result"
    },
    {
     "data": {
      "image/png": "[encoded data removed]",
      "text/plain": [
       "<Figure size 500x500 with 1 Axes>"
      ]
     },
     "metadata": {},
     "output_type": "display_data"
    }
   ],
   "source": [
    "sns.displot(df['Age'])"
   ]
  },
  {
   "cell_type": "markdown",
   "id": "ad9fe4a4-6c5d-4dbd-b8c8-fc0ab2f2698b",
   "metadata": {},
   "source": [
    "Na verdade, aparenteme a variável idade está quase \"igualmente distribuida\" nas faixas"
   ]
  },
  {
   "cell_type": "code",
   "execution_count": null,
   "id": "75ae2fc7-f677-44ec-8cd0-9b2ca1b21ea0",
   "metadata": {},
   "outputs": [],
   "source": []
  },
  {
   "cell_type": "markdown",
   "id": "69545747-27cf-4c21-8cd6-d0786ae7efc6",
   "metadata": {
    "tags": []
   },
   "source": [
    "##### Renda"
   ]
  },
  {
   "cell_type": "code",
   "execution_count": 23,
   "id": "110bcbb4-10f5-4c99-a1d5-015214b74294",
   "metadata": {},
   "outputs": [
    {
     "data": {
      "text/plain": [
       "82499.5"
      ]
     },
     "execution_count": 23,
     "metadata": {},
     "output_type": "execute_result"
    }
   ],
   "source": [
    "(df['Income'].max() + df['Income'].min()) / 2"
   ]
  },
  {
   "cell_type": "code",
   "execution_count": 22,
   "id": "1232fa8a-9a38-4ac7-ab1c-409f7f3673b7",
   "metadata": {},
   "outputs": [
    {
     "name": "stdout",
     "output_type": "stream",
     "text": [
      "Idade máxima: 149999\n",
      "Idade mínima: 15000\n",
      "Idade média: 82499.30459727351\n"
     ]
    }
   ],
   "source": [
    "print(f\"Idade máxima: {df['Income'].max()}\")\n",
    "print(f\"Idade mínima: {df['Income'].min()}\")\n",
    "print(f\"Idade média: {df['Income'].mean()}\")"
   ]
  },
  {
   "cell_type": "code",
   "execution_count": 15,
   "id": "b6d46fe9-38cf-4414-a118-fcd434e0ecd2",
   "metadata": {},
   "outputs": [
    {
     "data": {
      "text/plain": [
       "{'whiskers': [<matplotlib.lines.Line2D at 0x239ac4cdeb0>,\n",
       "  <matplotlib.lines.Line2D at 0x239ac4db280>],\n",
       " 'caps': [<matplotlib.lines.Line2D at 0x239ac4db610>,\n",
       "  <matplotlib.lines.Line2D at 0x239ac4db9a0>],\n",
       " 'boxes': [<matplotlib.lines.Line2D at 0x239ac4cdb20>],\n",
       " 'medians': [<matplotlib.lines.Line2D at 0x239ac4dbd30>],\n",
       " 'fliers': [<matplotlib.lines.Line2D at 0x239ac4e5100>],\n",
       " 'means': []}"
      ]
     },
     "execution_count": 15,
     "metadata": {},
     "output_type": "execute_result"
    },
    {
     "data": {
      "image/png": "[encoded data removed]",
      "text/plain": [
       "<Figure size 640x480 with 1 Axes>"
      ]
     },
     "metadata": {},
     "output_type": "display_data"
    }
   ],
   "source": [
    "plt.boxplot(df[\"Income\"])"
   ]
  },
  {
   "cell_type": "markdown",
   "id": "7e26e623-f395-49e6-ac11-c8927c8b266b",
   "metadata": {},
   "source": [
    "Aparentemente, da mesma forma que a idade, a renda parece estar \"igualmente distribuída\""
   ]
  },
  {
   "cell_type": "code",
   "execution_count": 24,
   "id": "b2096652-0167-47ca-9846-5e3c22f87ffa",
   "metadata": {},
   "outputs": [
    {
     "data": {
      "text/plain": [
       "<seaborn.axisgrid.FacetGrid at 0x239aa82cbe0>"
      ]
     },
     "execution_count": 24,
     "metadata": {},
     "output_type": "execute_result"
    },
    {
     "data": {
      "image/png": "[encoded data removed]",
      "text/plain": [
       "<Figure size 500x500 with 1 Axes>"
      ]
     },
     "metadata": {},
     "output_type": "display_data"
    }
   ],
   "source": [
    "sns.displot(df['Income'])"
   ]
  },
  {
   "cell_type": "markdown",
   "id": "bb57bedc-8e01-45f1-abd7-9df25a4ce05a",
   "metadata": {
    "tags": []
   },
   "source": [
    "##### LoanAmount (valor da dívida)"
   ]
  },
  {
   "cell_type": "code",
   "execution_count": null,
   "id": "213da92c-70cb-44b6-a3b9-bb06e5c0db6e",
   "metadata": {},
   "outputs": [],
   "source": []
  },
  {
   "cell_type": "code",
   "execution_count": 25,
   "id": "8b6a9ea9-f481-498d-9da6-03bf0094aa09",
   "metadata": {},
   "outputs": [
    {
     "data": {
      "text/plain": [
       "{'whiskers': [<matplotlib.lines.Line2D at 0x239ad1a5730>,\n",
       "  <matplotlib.lines.Line2D at 0x239ad1a5ac0>],\n",
       " 'caps': [<matplotlib.lines.Line2D at 0x239ad1a5e50>,\n",
       "  <matplotlib.lines.Line2D at 0x239ad1b2220>],\n",
       " 'boxes': [<matplotlib.lines.Line2D at 0x239ad1a53a0>],\n",
       " 'medians': [<matplotlib.lines.Line2D at 0x239ad1b25b0>],\n",
       " 'fliers': [<matplotlib.lines.Line2D at 0x239ad1b2940>],\n",
       " 'means': []}"
      ]
     },
     "execution_count": 25,
     "metadata": {},
     "output_type": "execute_result"
    },
    {
     "data": {
      "image/png": "[encoded data removed]",
      "text/plain": [
       "<Figure size 640x480 with 1 Axes>"
      ]
     },
     "metadata": {},
     "output_type": "display_data"
    }
   ],
   "source": [
    "plt.boxplot(df['LoanAmount'])"
   ]
  },
  {
   "cell_type": "code",
   "execution_count": 26,
   "id": "c5b227ab-bda7-43bf-993b-62a5f72cad73",
   "metadata": {},
   "outputs": [
    {
     "data": {
      "text/plain": [
       "<seaborn.axisgrid.FacetGrid at 0x239ad1548b0>"
      ]
     },
     "execution_count": 26,
     "metadata": {},
     "output_type": "execute_result"
    },
    {
     "data": {
      "image/png": "[encoded data removed]",
      "text/plain": [
       "<Figure size 500x500 with 1 Axes>"
      ]
     },
     "metadata": {},
     "output_type": "display_data"
    }
   ],
   "source": [
    "sns.displot(df['LoanAmount'])"
   ]
  },
  {
   "cell_type": "code",
   "execution_count": null,
   "id": "875ff9b9-146e-48f3-bf4f-204ba4d3e6ab",
   "metadata": {},
   "outputs": [],
   "source": []
  },
  {
   "cell_type": "markdown",
   "id": "d6b944fa-667d-40dc-a8a3-d8bb72bd94cb",
   "metadata": {
    "tags": []
   },
   "source": [
    "##### NumCreditLines"
   ]
  },
  {
   "cell_type": "code",
   "execution_count": null,
   "id": "bb7b07d4-c3a1-49c0-ab1b-a92925b19558",
   "metadata": {},
   "outputs": [],
   "source": []
  },
  {
   "cell_type": "code",
   "execution_count": 27,
   "id": "4aa19640-707d-496c-8301-aa6befc0ccf7",
   "metadata": {},
   "outputs": [
    {
     "data": {
      "text/plain": [
       "{'whiskers': [<matplotlib.lines.Line2D at 0x239ae04aeb0>,\n",
       "  <matplotlib.lines.Line2D at 0x239ae058280>],\n",
       " 'caps': [<matplotlib.lines.Line2D at 0x239ae058610>,\n",
       "  <matplotlib.lines.Line2D at 0x239ae0589a0>],\n",
       " 'boxes': [<matplotlib.lines.Line2D at 0x239ae04ab20>],\n",
       " 'medians': [<matplotlib.lines.Line2D at 0x239ae058d30>],\n",
       " 'fliers': [<matplotlib.lines.Line2D at 0x239ae062100>],\n",
       " 'means': []}"
      ]
     },
     "execution_count": 27,
     "metadata": {},
     "output_type": "execute_result"
    },
    {
     "data": {
      "image/png": "[encoded data removed]",
      "text/plain": [
       "<Figure size 640x480 with 1 Axes>"
      ]
     },
     "metadata": {},
     "output_type": "display_data"
    }
   ],
   "source": [
    "plt.boxplot(df['NumCreditLines'])"
   ]
  },
  {
   "cell_type": "code",
   "execution_count": 29,
   "id": "11462a25-9f06-47ce-9e0b-c23a17f58898",
   "metadata": {},
   "outputs": [
    {
     "data": {
      "text/plain": [
       "2.501035845339871"
      ]
     },
     "execution_count": 29,
     "metadata": {},
     "output_type": "execute_result"
    }
   ],
   "source": [
    "df['NumCreditLines'].mean()"
   ]
  },
  {
   "cell_type": "code",
   "execution_count": 30,
   "id": "8684c20d-a59e-4805-b1c1-2c9abb0aa688",
   "metadata": {},
   "outputs": [
    {
     "data": {
      "text/plain": [
       "4"
      ]
     },
     "execution_count": 30,
     "metadata": {},
     "output_type": "execute_result"
    }
   ],
   "source": [
    "df['NumCreditLines'].max()"
   ]
  },
  {
   "cell_type": "code",
   "execution_count": 31,
   "id": "b516213b-d0ee-4219-9ceb-e99e7bc6230b",
   "metadata": {},
   "outputs": [
    {
     "data": {
      "text/plain": [
       "1"
      ]
     },
     "execution_count": 31,
     "metadata": {},
     "output_type": "execute_result"
    }
   ],
   "source": [
    "df['NumCreditLines'].min()"
   ]
  },
  {
   "cell_type": "code",
   "execution_count": 28,
   "id": "085d409f-d10c-45ae-b0f8-6c8ce053f059",
   "metadata": {},
   "outputs": [
    {
     "data": {
      "text/plain": [
       "<seaborn.axisgrid.FacetGrid at 0x239b1139970>"
      ]
     },
     "execution_count": 28,
     "metadata": {},
     "output_type": "execute_result"
    },
    {
     "data": {
      "image/png": "[encoded data removed]",
      "text/plain": [
       "<Figure size 500x500 with 1 Axes>"
      ]
     },
     "metadata": {},
     "output_type": "display_data"
    }
   ],
   "source": [
    "sns.displot(df['NumCreditLines'])"
   ]
  },
  {
   "cell_type": "code",
   "execution_count": null,
   "id": "eff2f83c-0547-4a75-a4d9-b2726a39d4ad",
   "metadata": {},
   "outputs": [],
   "source": []
  },
  {
   "cell_type": "code",
   "execution_count": null,
   "id": "d9af68c1-2cca-4eef-8d82-fd2ae23aae16",
   "metadata": {},
   "outputs": [],
   "source": []
  },
  {
   "cell_type": "markdown",
   "id": "5a2aba8c-7b0b-4737-9a92-018661df84d0",
   "metadata": {
    "tags": []
   },
   "source": [
    "##### MonthsEmployed"
   ]
  },
  {
   "cell_type": "code",
   "execution_count": 32,
   "id": "ae69efbb-3dd8-4629-aa49-628b5c4b67c8",
   "metadata": {},
   "outputs": [
    {
     "data": {
      "text/plain": [
       "{'whiskers': [<matplotlib.lines.Line2D at 0x239ae5b9340>,\n",
       "  <matplotlib.lines.Line2D at 0x239ae5b96d0>],\n",
       " 'caps': [<matplotlib.lines.Line2D at 0x239ae5b9a60>,\n",
       "  <matplotlib.lines.Line2D at 0x239ae5b9df0>],\n",
       " 'boxes': [<matplotlib.lines.Line2D at 0x239ae5acf70>],\n",
       " 'medians': [<matplotlib.lines.Line2D at 0x239ae5c31c0>],\n",
       " 'fliers': [<matplotlib.lines.Line2D at 0x239ae5c3550>],\n",
       " 'means': []}"
      ]
     },
     "execution_count": 32,
     "metadata": {},
     "output_type": "execute_result"
    },
    {
     "data": {
      "image/png": "[encoded data removed]",
      "text/plain": [
       "<Figure size 640x480 with 1 Axes>"
      ]
     },
     "metadata": {},
     "output_type": "display_data"
    }
   ],
   "source": [
    "plt.boxplot(df['MonthsEmployed'])"
   ]
  },
  {
   "cell_type": "code",
   "execution_count": null,
   "id": "9904a299-c009-49d0-ad41-a89246745eb4",
   "metadata": {},
   "outputs": [],
   "source": []
  },
  {
   "cell_type": "code",
   "execution_count": null,
   "id": "ab0ea27a-4227-4976-89de-0b0f73922820",
   "metadata": {},
   "outputs": [],
   "source": []
  },
  {
   "cell_type": "code",
   "execution_count": null,
   "id": "fa993c4e-786f-4cfd-b30a-dbfe3fc715c1",
   "metadata": {},
   "outputs": [],
   "source": []
  },
  {
   "cell_type": "markdown",
   "id": "ed06c804-1c65-40ac-b887-8b9caf1946ad",
   "metadata": {},
   "source": [
    "##### Geral"
   ]
  },
  {
   "cell_type": "code",
   "execution_count": 9,
   "id": "f4651df6-be58-4292-80c9-cdc0618195dc",
   "metadata": {},
   "outputs": [
    {
     "data": {
      "text/plain": [
       "<AxesSubplot:>"
      ]
     },
     "execution_count": 9,
     "metadata": {},
     "output_type": "execute_result"
    },
    {
     "data": {
      "image/png": "[encoded data removed]",
      "text/plain": [
       "<Figure size 640x480 with 1 Axes>"
      ]
     },
     "metadata": {},
     "output_type": "display_data"
    }
   ],
   "source": [
    "df.drop(['Income', 'LoanAmount', 'Default'], axis=1).boxplot()"
   ]
  },
  {
   "cell_type": "code",
   "execution_count": 10,
   "id": "2f157ab6-8171-44e9-b2e6-eb1089ceab89",
   "metadata": {},
   "outputs": [
    {
     "data": {
      "text/plain": [
       "<AxesSubplot:>"
      ]
     },
     "execution_count": 10,
     "metadata": {},
     "output_type": "execute_result"
    },
    {
     "data": {
      "image/png": "[encoded data removed]",
      "text/plain": [
       "<Figure size 640x480 with 1 Axes>"
      ]
     },
     "metadata": {},
     "output_type": "display_data"
    }
   ],
   "source": [
    "df.drop(['Income', 'LoanAmount', 'CreditScore', 'Default'], axis=1).boxplot()"
   ]
  },
  {
   "cell_type": "code",
   "execution_count": 11,
   "id": "5a048db3-0f07-4975-9e70-8ed70bba609e",
   "metadata": {},
   "outputs": [
    {
     "data": {
      "text/plain": [
       "<AxesSubplot:>"
      ]
     },
     "execution_count": 11,
     "metadata": {},
     "output_type": "execute_result"
    },
    {
     "data": {
      "image/png": "[encoded data removed]",
      "text/plain": [
       "<Figure size 640x480 with 1 Axes>"
      ]
     },
     "metadata": {},
     "output_type": "display_data"
    }
   ],
   "source": [
    "df.drop(['Income', 'LoanAmount', 'CreditScore', 'Age', 'MonthsEmployed', 'LoanTerm', 'InterestRate', 'Default'], axis=1).boxplot()"
   ]
  },
  {
   "cell_type": "code",
   "execution_count": null,
   "id": "9003e6ac-73ac-4b0a-9ee3-79e7dee5925e",
   "metadata": {},
   "outputs": [],
   "source": []
  },
  {
   "cell_type": "markdown",
   "id": "48debd20-1255-40d9-af0f-0ab987c129eb",
   "metadata": {},
   "source": [
    "Conclusão: \n",
    "    </br>Não há necessidade de tratamento de outliers, pois todas as variáveis numéricas são simétricas (e \"igualmente distribuídas\")"
   ]
  },
  {
   "cell_type": "code",
   "execution_count": null,
   "id": "d0311660-2645-40d8-b617-f118a9962820",
   "metadata": {},
   "outputs": [],
   "source": []
  },
  {
   "cell_type": "markdown",
   "id": "420b9b3c-1ac1-40ec-a96b-1a0bdfe24990",
   "metadata": {
    "tags": []
   },
   "source": [
    "#### Categorização (discretização) de variáveis texto"
   ]
  },
  {
   "cell_type": "code",
   "execution_count": 188,
   "id": "5ffcb4d2-249c-4a5c-91ef-cd5a7bfade54",
   "metadata": {},
   "outputs": [
    {
     "data": {
      "text/html": [
       "<div>\n",
       "<style scoped>\n",
       "    .dataframe tbody tr th:only-of-type {\n",
       "        vertical-align: middle;\n",
       "    }\n",
       "\n",
       "    .dataframe tbody tr th {\n",
       "        vertical-align: top;\n",
       "    }\n",
       "\n",
       "    .dataframe thead th {\n",
       "        text-align: right;\n",
       "    }\n",
       "</style>\n",
       "<table border=\"1\" class=\"dataframe\">\n",
       "  <thead>\n",
       "    <tr style=\"text-align: right;\">\n",
       "      <th></th>\n",
       "      <th>LoanID</th>\n",
       "      <th>Education</th>\n",
       "      <th>EmploymentType</th>\n",
       "      <th>MaritalStatus</th>\n",
       "      <th>HasMortgage</th>\n",
       "      <th>HasDependents</th>\n",
       "      <th>LoanPurpose</th>\n",
       "      <th>HasCoSigner</th>\n",
       "    </tr>\n",
       "  </thead>\n",
       "  <tbody>\n",
       "    <tr>\n",
       "      <th>0</th>\n",
       "      <td>I38PQUQS96</td>\n",
       "      <td>Bachelor's</td>\n",
       "      <td>Full-time</td>\n",
       "      <td>Divorced</td>\n",
       "      <td>Yes</td>\n",
       "      <td>Yes</td>\n",
       "      <td>Other</td>\n",
       "      <td>Yes</td>\n",
       "    </tr>\n",
       "    <tr>\n",
       "      <th>1</th>\n",
       "      <td>HPSK72WA7R</td>\n",
       "      <td>Master's</td>\n",
       "      <td>Full-time</td>\n",
       "      <td>Married</td>\n",
       "      <td>No</td>\n",
       "      <td>No</td>\n",
       "      <td>Other</td>\n",
       "      <td>Yes</td>\n",
       "    </tr>\n",
       "    <tr>\n",
       "      <th>2</th>\n",
       "      <td>C1OZ6DPJ8Y</td>\n",
       "      <td>Master's</td>\n",
       "      <td>Unemployed</td>\n",
       "      <td>Divorced</td>\n",
       "      <td>Yes</td>\n",
       "      <td>Yes</td>\n",
       "      <td>Auto</td>\n",
       "      <td>No</td>\n",
       "    </tr>\n",
       "    <tr>\n",
       "      <th>3</th>\n",
       "      <td>V2KKSFM3UN</td>\n",
       "      <td>High School</td>\n",
       "      <td>Full-time</td>\n",
       "      <td>Married</td>\n",
       "      <td>No</td>\n",
       "      <td>No</td>\n",
       "      <td>Business</td>\n",
       "      <td>No</td>\n",
       "    </tr>\n",
       "    <tr>\n",
       "      <th>4</th>\n",
       "      <td>EY08JDHTZP</td>\n",
       "      <td>Bachelor's</td>\n",
       "      <td>Unemployed</td>\n",
       "      <td>Divorced</td>\n",
       "      <td>No</td>\n",
       "      <td>Yes</td>\n",
       "      <td>Auto</td>\n",
       "      <td>No</td>\n",
       "    </tr>\n",
       "    <tr>\n",
       "      <th>...</th>\n",
       "      <td>...</td>\n",
       "      <td>...</td>\n",
       "      <td>...</td>\n",
       "      <td>...</td>\n",
       "      <td>...</td>\n",
       "      <td>...</td>\n",
       "      <td>...</td>\n",
       "      <td>...</td>\n",
       "    </tr>\n",
       "    <tr>\n",
       "      <th>255342</th>\n",
       "      <td>8C6S86ESGC</td>\n",
       "      <td>Bachelor's</td>\n",
       "      <td>Full-time</td>\n",
       "      <td>Married</td>\n",
       "      <td>No</td>\n",
       "      <td>No</td>\n",
       "      <td>Other</td>\n",
       "      <td>No</td>\n",
       "    </tr>\n",
       "    <tr>\n",
       "      <th>255343</th>\n",
       "      <td>98R4KDHNND</td>\n",
       "      <td>High School</td>\n",
       "      <td>Part-time</td>\n",
       "      <td>Divorced</td>\n",
       "      <td>No</td>\n",
       "      <td>No</td>\n",
       "      <td>Home</td>\n",
       "      <td>No</td>\n",
       "    </tr>\n",
       "    <tr>\n",
       "      <th>255344</th>\n",
       "      <td>XQK1UUUNGP</td>\n",
       "      <td>High School</td>\n",
       "      <td>Self-employed</td>\n",
       "      <td>Married</td>\n",
       "      <td>Yes</td>\n",
       "      <td>Yes</td>\n",
       "      <td>Auto</td>\n",
       "      <td>Yes</td>\n",
       "    </tr>\n",
       "    <tr>\n",
       "      <th>255345</th>\n",
       "      <td>JAO28CPL4H</td>\n",
       "      <td>High School</td>\n",
       "      <td>Part-time</td>\n",
       "      <td>Single</td>\n",
       "      <td>Yes</td>\n",
       "      <td>Yes</td>\n",
       "      <td>Other</td>\n",
       "      <td>No</td>\n",
       "    </tr>\n",
       "    <tr>\n",
       "      <th>255346</th>\n",
       "      <td>ZTH91CGL0B</td>\n",
       "      <td>Bachelor's</td>\n",
       "      <td>Unemployed</td>\n",
       "      <td>Divorced</td>\n",
       "      <td>Yes</td>\n",
       "      <td>No</td>\n",
       "      <td>Education</td>\n",
       "      <td>Yes</td>\n",
       "    </tr>\n",
       "  </tbody>\n",
       "</table>\n",
       "<p>255347 rows × 8 columns</p>\n",
       "</div>"
      ],
      "text/plain": [
       "            LoanID    Education EmploymentType MaritalStatus HasMortgage  \\\n",
       "0       I38PQUQS96   Bachelor's      Full-time      Divorced         Yes   \n",
       "1       HPSK72WA7R     Master's      Full-time       Married          No   \n",
       "2       C1OZ6DPJ8Y     Master's     Unemployed      Divorced         Yes   \n",
       "3       V2KKSFM3UN  High School      Full-time       Married          No   \n",
       "4       EY08JDHTZP   Bachelor's     Unemployed      Divorced          No   \n",
       "...            ...          ...            ...           ...         ...   \n",
       "255342  8C6S86ESGC   Bachelor's      Full-time       Married          No   \n",
       "255343  98R4KDHNND  High School      Part-time      Divorced          No   \n",
       "255344  XQK1UUUNGP  High School  Self-employed       Married         Yes   \n",
       "255345  JAO28CPL4H  High School      Part-time        Single         Yes   \n",
       "255346  ZTH91CGL0B   Bachelor's     Unemployed      Divorced         Yes   \n",
       "\n",
       "       HasDependents LoanPurpose HasCoSigner  \n",
       "0                Yes       Other         Yes  \n",
       "1                 No       Other         Yes  \n",
       "2                Yes        Auto          No  \n",
       "3                 No    Business          No  \n",
       "4                Yes        Auto          No  \n",
       "...              ...         ...         ...  \n",
       "255342            No       Other          No  \n",
       "255343            No        Home          No  \n",
       "255344           Yes        Auto         Yes  \n",
       "255345           Yes       Other          No  \n",
       "255346            No   Education         Yes  \n",
       "\n",
       "[255347 rows x 8 columns]"
      ]
     },
     "execution_count": 188,
     "metadata": {},
     "output_type": "execute_result"
    }
   ],
   "source": [
    "df.select_dtypes('object')"
   ]
  },
  {
   "cell_type": "code",
   "execution_count": 189,
   "id": "dfdce7a8-84cd-4a5c-b7b0-e24fec454be7",
   "metadata": {},
   "outputs": [
    {
     "data": {
      "text/plain": [
       "Bachelor's     0.252073\n",
       "High School    0.250259\n",
       "Master's       0.248842\n",
       "PhD            0.248826\n",
       "Name: Education, dtype: float64"
      ]
     },
     "execution_count": 189,
     "metadata": {},
     "output_type": "execute_result"
    }
   ],
   "source": [
    "df['Education'].value_counts(normalize=True)"
   ]
  },
  {
   "cell_type": "code",
   "execution_count": 190,
   "id": "2a89b87c-9a9a-4b00-a450-048d0922863b",
   "metadata": {},
   "outputs": [
    {
     "data": {
      "text/plain": [
       "Married     0.334063\n",
       "Divorced    0.333010\n",
       "Single      0.332927\n",
       "Name: MaritalStatus, dtype: float64"
      ]
     },
     "execution_count": 190,
     "metadata": {},
     "output_type": "execute_result"
    }
   ],
   "source": [
    "df['MaritalStatus'].value_counts(normalize=True)"
   ]
  },
  {
   "cell_type": "code",
   "execution_count": 191,
   "id": "00353f27-7da9-4668-8d3d-88b30deb49d6",
   "metadata": {},
   "outputs": [],
   "source": [
    "le_education = LabelEncoder()\n",
    "le_marital_sts = LabelEncoder()\n",
    "le_employment_type = LabelEncoder()\n",
    "le_loan_purpose = LabelEncoder()"
   ]
  },
  {
   "cell_type": "code",
   "execution_count": 192,
   "id": "65417aaf-5a3c-4a4b-9e13-712855d5832a",
   "metadata": {},
   "outputs": [],
   "source": [
    "df['Education'] = le_education.fit_transform(df['Education'])\n",
    "df['MaritalStatus'] = le_marital_sts.fit_transform(df['MaritalStatus'])\n",
    "df['EmploymentType'] = le_employment_type.fit_transform(df['EmploymentType'])\n",
    "df['LoanPurpose'] = le_loan_purpose.fit_transform(df['LoanPurpose'])"
   ]
  },
  {
   "cell_type": "code",
   "execution_count": 193,
   "id": "702deec7-1713-4cfe-a74d-a4de37a03a5d",
   "metadata": {},
   "outputs": [
    {
     "data": {
      "text/plain": [
       "0    0.252073\n",
       "1    0.250259\n",
       "2    0.248842\n",
       "3    0.248826\n",
       "Name: Education, dtype: float64"
      ]
     },
     "execution_count": 193,
     "metadata": {},
     "output_type": "execute_result"
    }
   ],
   "source": [
    "df['Education'].value_counts(normalize=True)"
   ]
  },
  {
   "cell_type": "code",
   "execution_count": 194,
   "id": "4839e891-a8e9-43f9-8d3e-120f7d97f100",
   "metadata": {},
   "outputs": [
    {
     "data": {
      "text/plain": [
       "1    0.334063\n",
       "0    0.333010\n",
       "2    0.332927\n",
       "Name: MaritalStatus, dtype: float64"
      ]
     },
     "execution_count": 194,
     "metadata": {},
     "output_type": "execute_result"
    }
   ],
   "source": [
    "df['MaritalStatus'].value_counts(normalize=True)"
   ]
  },
  {
   "cell_type": "code",
   "execution_count": 195,
   "id": "bceccc42-802d-4e14-a843-72d25d03e01e",
   "metadata": {},
   "outputs": [
    {
     "data": {
      "text/plain": [
       "array(['No', 'Yes'], dtype=object)"
      ]
     },
     "execution_count": 195,
     "metadata": {},
     "output_type": "execute_result"
    }
   ],
   "source": [
    "np.unique(df['HasMortgage'])"
   ]
  },
  {
   "cell_type": "code",
   "execution_count": 196,
   "id": "2329e9f7-e0b0-4ceb-b1c3-6093681183e4",
   "metadata": {},
   "outputs": [],
   "source": [
    "encod_binary = {'No': 0, 'Yes': 1}"
   ]
  },
  {
   "cell_type": "code",
   "execution_count": 197,
   "id": "6f200bbc-7ec6-4046-aa36-1848f0eeb76e",
   "metadata": {},
   "outputs": [],
   "source": [
    "df['HasMortgage'] = df['HasMortgage'].map(encod_binary)\n",
    "df['HasDependents'] = df['HasDependents'].map(encod_binary)\n",
    "df['HasCoSigner'] = df['HasCoSigner'].map(encod_binary)"
   ]
  },
  {
   "cell_type": "code",
   "execution_count": 198,
   "id": "3ee8c5a2-45fc-42c5-9cc0-97120bc6288e",
   "metadata": {},
   "outputs": [
    {
     "data": {
      "text/html": [
       "<div>\n",
       "<style scoped>\n",
       "    .dataframe tbody tr th:only-of-type {\n",
       "        vertical-align: middle;\n",
       "    }\n",
       "\n",
       "    .dataframe tbody tr th {\n",
       "        vertical-align: top;\n",
       "    }\n",
       "\n",
       "    .dataframe thead th {\n",
       "        text-align: right;\n",
       "    }\n",
       "</style>\n",
       "<table border=\"1\" class=\"dataframe\">\n",
       "  <thead>\n",
       "    <tr style=\"text-align: right;\">\n",
       "      <th></th>\n",
       "      <th>LoanID</th>\n",
       "      <th>Age</th>\n",
       "      <th>Income</th>\n",
       "      <th>LoanAmount</th>\n",
       "      <th>CreditScore</th>\n",
       "      <th>MonthsEmployed</th>\n",
       "      <th>NumCreditLines</th>\n",
       "      <th>InterestRate</th>\n",
       "      <th>LoanTerm</th>\n",
       "      <th>DTIRatio</th>\n",
       "      <th>Education</th>\n",
       "      <th>EmploymentType</th>\n",
       "      <th>MaritalStatus</th>\n",
       "      <th>HasMortgage</th>\n",
       "      <th>HasDependents</th>\n",
       "      <th>LoanPurpose</th>\n",
       "      <th>HasCoSigner</th>\n",
       "      <th>Default</th>\n",
       "    </tr>\n",
       "  </thead>\n",
       "  <tbody>\n",
       "    <tr>\n",
       "      <th>0</th>\n",
       "      <td>I38PQUQS96</td>\n",
       "      <td>56</td>\n",
       "      <td>85994</td>\n",
       "      <td>50587</td>\n",
       "      <td>520</td>\n",
       "      <td>80</td>\n",
       "      <td>4</td>\n",
       "      <td>15.23</td>\n",
       "      <td>36</td>\n",
       "      <td>0.44</td>\n",
       "      <td>0</td>\n",
       "      <td>0</td>\n",
       "      <td>0</td>\n",
       "      <td>1</td>\n",
       "      <td>1</td>\n",
       "      <td>4</td>\n",
       "      <td>1</td>\n",
       "      <td>0</td>\n",
       "    </tr>\n",
       "    <tr>\n",
       "      <th>1</th>\n",
       "      <td>HPSK72WA7R</td>\n",
       "      <td>69</td>\n",
       "      <td>50432</td>\n",
       "      <td>124440</td>\n",
       "      <td>458</td>\n",
       "      <td>15</td>\n",
       "      <td>1</td>\n",
       "      <td>4.81</td>\n",
       "      <td>60</td>\n",
       "      <td>0.68</td>\n",
       "      <td>2</td>\n",
       "      <td>0</td>\n",
       "      <td>1</td>\n",
       "      <td>0</td>\n",
       "      <td>0</td>\n",
       "      <td>4</td>\n",
       "      <td>1</td>\n",
       "      <td>0</td>\n",
       "    </tr>\n",
       "  </tbody>\n",
       "</table>\n",
       "</div>"
      ],
      "text/plain": [
       "       LoanID  Age  Income  LoanAmount  CreditScore  MonthsEmployed  \\\n",
       "0  I38PQUQS96   56   85994       50587          520              80   \n",
       "1  HPSK72WA7R   69   50432      124440          458              15   \n",
       "\n",
       "   NumCreditLines  InterestRate  LoanTerm  DTIRatio  Education  \\\n",
       "0               4         15.23        36      0.44          0   \n",
       "1               1          4.81        60      0.68          2   \n",
       "\n",
       "   EmploymentType  MaritalStatus  HasMortgage  HasDependents  LoanPurpose  \\\n",
       "0               0              0            1              1            4   \n",
       "1               0              1            0              0            4   \n",
       "\n",
       "   HasCoSigner  Default  \n",
       "0            1        0  \n",
       "1            1        0  "
      ]
     },
     "execution_count": 198,
     "metadata": {},
     "output_type": "execute_result"
    }
   ],
   "source": [
    "df.head(2)"
   ]
  },
  {
   "cell_type": "code",
   "execution_count": null,
   "id": "536cd4be-6064-45c7-9c3b-52fef7be8842",
   "metadata": {},
   "outputs": [],
   "source": []
  },
  {
   "cell_type": "markdown",
   "id": "ded0f362-5e53-48ff-ae25-741c2c257338",
   "metadata": {},
   "source": [
    "#### Split em treino e teste"
   ]
  },
  {
   "cell_type": "code",
   "execution_count": 200,
   "id": "90f859dd-04ae-49b4-b66f-fff9143d0b20",
   "metadata": {},
   "outputs": [],
   "source": [
    "X = df.iloc[:, 1:17]\n",
    "y = df['Default']"
   ]
  },
  {
   "cell_type": "code",
   "execution_count": 201,
   "id": "69cf91e7-044e-4bf9-84cf-32282a961fd2",
   "metadata": {},
   "outputs": [],
   "source": [
    "X_train, X_test, y_train, y_test = train_test_split(X, y, test_size=0.2, random_state=42)"
   ]
  },
  {
   "cell_type": "code",
   "execution_count": 202,
   "id": "22576ec9-6490-4d5b-9d72-58efefbc167d",
   "metadata": {},
   "outputs": [
    {
     "data": {
      "text/plain": [
       "((204277, 16), (51070, 16), (204277,), (51070,))"
      ]
     },
     "execution_count": 202,
     "metadata": {},
     "output_type": "execute_result"
    }
   ],
   "source": [
    "X_train.shape, X_test.shape, y_train.shape, y_test.shape"
   ]
  },
  {
   "cell_type": "code",
   "execution_count": null,
   "id": "f6c16a1e-3646-416f-9351-bea4ad43a2f8",
   "metadata": {},
   "outputs": [],
   "source": []
  },
  {
   "cell_type": "markdown",
   "id": "72c2b525-ac88-4afe-a742-0ad0a4384e1c",
   "metadata": {
    "tags": []
   },
   "source": [
    "#### Fazendo scaling na base"
   ]
  },
  {
   "cell_type": "code",
   "execution_count": 26,
   "id": "2f0a5964-524d-4773-a175-4fcb673efd35",
   "metadata": {},
   "outputs": [],
   "source": [
    "# Em toda a base\n",
    "sc1 = StandardScaler()\n",
    "X_sc = sc1.fit_transform(X)"
   ]
  },
  {
   "cell_type": "code",
   "execution_count": 27,
   "id": "a136264c-a177-4c9e-a475-d4bef3560228",
   "metadata": {},
   "outputs": [],
   "source": [
    "sc = StandardScaler()\n",
    "X_train_sc = sc.fit_transform(X_train)\n",
    "X_test_sc = sc.transform(X_test)"
   ]
  },
  {
   "cell_type": "markdown",
   "id": "bbae56cf-381a-4daf-9e45-7f0f0bab20db",
   "metadata": {
    "tags": []
   },
   "source": [
    "#### Validação cruzada para escolher melhor algoritmo"
   ]
  },
  {
   "cell_type": "code",
   "execution_count": 29,
   "id": "3f59faf2-05ed-4896-8ebb-d2c6f0c5d432",
   "metadata": {},
   "outputs": [],
   "source": [
    "# Árvore de decisão\n",
    "dt = DecisionTreeClassifier(criterion='entropy', max_depth=6)"
   ]
  },
  {
   "cell_type": "code",
   "execution_count": 30,
   "id": "3accd8fc-77b5-4bff-a76c-30a40d0a2830",
   "metadata": {},
   "outputs": [
    {
     "name": "stdout",
     "output_type": "stream",
     "text": [
      "0.7202703124184172\n"
     ]
    }
   ],
   "source": [
    "cv = cross_val_score(dt, X, y, cv=5, scoring='roc_auc').mean()\n",
    "print(cv)"
   ]
  },
  {
   "cell_type": "code",
   "execution_count": 37,
   "id": "62664e74-f3f3-4421-9568-6a9ad79cd266",
   "metadata": {},
   "outputs": [],
   "source": [
    "# Random Forest\n",
    "rf = RandomForestClassifier(n_estimators=80, max_depth=6, n_jobs=-1)"
   ]
  },
  {
   "cell_type": "code",
   "execution_count": 38,
   "id": "c1397049-f37e-4f05-a48e-a3db7da5cb09",
   "metadata": {},
   "outputs": [
    {
     "name": "stdout",
     "output_type": "stream",
     "text": [
      "0.7379892660634843\n"
     ]
    }
   ],
   "source": [
    "cv = cross_val_score(rf, X, y, cv=5, scoring='roc_auc').mean()\n",
    "print(cv)"
   ]
  },
  {
   "cell_type": "code",
   "execution_count": 72,
   "id": "fdffc7ec-be4d-4afd-bf26-dbccc6767eaf",
   "metadata": {},
   "outputs": [],
   "source": [
    "xgb = XGBClassifier(max_depth=6, n_estimators=100, learning_rate=0.1)"
   ]
  },
  {
   "cell_type": "code",
   "execution_count": 73,
   "id": "47b0f15f-be6d-40b2-a398-7dc5bff0d256",
   "metadata": {},
   "outputs": [
    {
     "name": "stdout",
     "output_type": "stream",
     "text": [
      "0.7520161701220559\n"
     ]
    }
   ],
   "source": [
    "cv = cross_val_score(xgb, X, y, cv=5, scoring='roc_auc').mean()\n",
    "print(cv)"
   ]
  },
  {
   "cell_type": "code",
   "execution_count": 28,
   "id": "a2da5ec9-dca6-4d76-adc7-3eaa4e4cdfa9",
   "metadata": {},
   "outputs": [],
   "source": [
    "reg = LogisticRegression()"
   ]
  },
  {
   "cell_type": "code",
   "execution_count": 29,
   "id": "8360c861-cc3f-485e-8b7c-e4cfd78e6e7b",
   "metadata": {},
   "outputs": [
    {
     "name": "stdout",
     "output_type": "stream",
     "text": [
      "0.7452030124669863\n"
     ]
    }
   ],
   "source": [
    "cv = cross_val_score(reg, X_sc, y, cv=5, scoring='roc_auc').mean()\n",
    "print(cv)"
   ]
  },
  {
   "cell_type": "markdown",
   "id": "0858c15d-87a5-4b34-aadd-cae511968a64",
   "metadata": {},
   "source": [
    "Tentei testar o SVM, mas demorou muito para rodar... provavelmente devido à quantidade de variáveis"
   ]
  },
  {
   "cell_type": "code",
   "execution_count": 82,
   "id": "eb442e50-e6f6-4fd2-ba55-e306746ff5c6",
   "metadata": {},
   "outputs": [],
   "source": [
    "# SVM - Sensível à escala\n",
    "svm = SVC()"
   ]
  },
  {
   "cell_type": "code",
   "execution_count": null,
   "id": "1c1c617b-736c-4487-bf5c-edeea29f8438",
   "metadata": {},
   "outputs": [],
   "source": [
    "cv = cross_val_score(svm, X_sc, y, cv=5, scoring='roc_auc').mean()\n",
    "print(cv)"
   ]
  },
  {
   "cell_type": "code",
   "execution_count": null,
   "id": "3d7a0c3a-3d6a-4d69-82a8-a83d18ec65db",
   "metadata": {},
   "outputs": [],
   "source": []
  },
  {
   "cell_type": "code",
   "execution_count": 33,
   "id": "ca7fb4eb-e05a-4b33-ad36-bb263c515e14",
   "metadata": {},
   "outputs": [],
   "source": [
    "# Multilayer perceptron\n",
    "net = MLPClassifier(hidden_layer_sizes=(16,16))"
   ]
  },
  {
   "cell_type": "code",
   "execution_count": 34,
   "id": "1c3b07ea-f910-48b2-961b-d98e5f6a4eca",
   "metadata": {},
   "outputs": [
    {
     "name": "stdout",
     "output_type": "stream",
     "text": [
      "0.735544324327425\n"
     ]
    }
   ],
   "source": [
    "cv = cross_val_score(net, X, y, cv=5, scoring='roc_auc').mean()\n",
    "print(cv)"
   ]
  },
  {
   "cell_type": "code",
   "execution_count": null,
   "id": "6dfd0398-c25a-42f1-89f9-79d0337575b1",
   "metadata": {},
   "outputs": [],
   "source": []
  },
  {
   "cell_type": "code",
   "execution_count": 203,
   "id": "247ce461-17f7-4674-9f46-154db8bb9a29",
   "metadata": {},
   "outputs": [],
   "source": [
    "# LightGBM\n",
    "lgb = LGBMClassifier(max_depth=6, n_estimators=70, num_leaves=25, learning_rate=0.10)"
   ]
  },
  {
   "cell_type": "code",
   "execution_count": 214,
   "id": "110141a0-486b-4af9-bf93-d1e75029293d",
   "metadata": {},
   "outputs": [
    {
     "name": "stdout",
     "output_type": "stream",
     "text": [
      "0.752183888137924\n"
     ]
    }
   ],
   "source": [
    "cv = cross_val_score(lgb, X, y, cv=5, scoring='roc_auc')\n",
    "print(cv.mean())"
   ]
  },
  {
   "cell_type": "code",
   "execution_count": 215,
   "id": "7f060219-0420-4ebd-a268-b063e0c347ee",
   "metadata": {},
   "outputs": [
    {
     "data": {
      "text/plain": [
       "array([0.75408712, 0.74966002, 0.75369788, 0.75416197, 0.74931245])"
      ]
     },
     "execution_count": 215,
     "metadata": {},
     "output_type": "execute_result"
    }
   ],
   "source": [
    "cv"
   ]
  },
  {
   "cell_type": "markdown",
   "id": "cbbb740e-feb1-4c07-80e2-fbb649812e02",
   "metadata": {},
   "source": [
    "O melhor algortimo nos testes na base toda é o LightGBM"
   ]
  },
  {
   "cell_type": "code",
   "execution_count": null,
   "id": "c36912f2-f966-4125-b808-4311e1c8db0a",
   "metadata": {},
   "outputs": [],
   "source": []
  },
  {
   "cell_type": "markdown",
   "id": "a490c085-a218-4e83-9574-b29a3157dc2e",
   "metadata": {
    "tags": []
   },
   "source": [
    "#### Eliminação Recursiva de variáveis"
   ]
  },
  {
   "cell_type": "code",
   "execution_count": 70,
   "id": "38313ce8-3e9a-4783-beaf-b28bf666ab5d",
   "metadata": {},
   "outputs": [],
   "source": [
    "# LightGBM\n",
    "lgb = LGBMClassifier(max_depth=6, n_estimators=70, num_leaves=25, learning_rate=0.10)"
   ]
  },
  {
   "cell_type": "code",
   "execution_count": 71,
   "id": "0fe249dc-9388-458e-bebd-054c47f2ba59",
   "metadata": {},
   "outputs": [],
   "source": [
    "selector = RFECV(lgb, step=1, cv=5)\n",
    "selector = selector.fit(X, y)"
   ]
  },
  {
   "cell_type": "code",
   "execution_count": 72,
   "id": "046f1125-5008-423f-b626-fada37f066d6",
   "metadata": {
    "collapsed": true,
    "jupyter": {
     "outputs_hidden": true
    },
    "tags": []
   },
   "outputs": [
    {
     "data": {
      "text/plain": [
       "['__abstractmethods__',\n",
       " '__annotations__',\n",
       " '__class__',\n",
       " '__delattr__',\n",
       " '__dict__',\n",
       " '__dir__',\n",
       " '__doc__',\n",
       " '__eq__',\n",
       " '__format__',\n",
       " '__ge__',\n",
       " '__getattribute__',\n",
       " '__getstate__',\n",
       " '__gt__',\n",
       " '__hash__',\n",
       " '__init__',\n",
       " '__init_subclass__',\n",
       " '__le__',\n",
       " '__lt__',\n",
       " '__module__',\n",
       " '__ne__',\n",
       " '__new__',\n",
       " '__reduce__',\n",
       " '__reduce_ex__',\n",
       " '__repr__',\n",
       " '__setattr__',\n",
       " '__setstate__',\n",
       " '__sizeof__',\n",
       " '__str__',\n",
       " '__subclasshook__',\n",
       " '__weakref__',\n",
       " '_abc_impl',\n",
       " '_check_feature_names',\n",
       " '_check_n_features',\n",
       " '_estimator_type',\n",
       " '_fit',\n",
       " '_get_param_names',\n",
       " '_get_support_mask',\n",
       " '_get_tags',\n",
       " '_more_tags',\n",
       " '_parameter_constraints',\n",
       " '_repr_html_',\n",
       " '_repr_html_inner',\n",
       " '_repr_mimebundle_',\n",
       " '_required_parameters',\n",
       " '_sklearn_auto_wrap_output_keys',\n",
       " '_transform',\n",
       " '_validate_data',\n",
       " '_validate_params',\n",
       " 'classes_',\n",
       " 'cv',\n",
       " 'cv_results_',\n",
       " 'decision_function',\n",
       " 'estimator',\n",
       " 'estimator_',\n",
       " 'feature_names_in_',\n",
       " 'fit',\n",
       " 'fit_transform',\n",
       " 'get_feature_names_out',\n",
       " 'get_params',\n",
       " 'get_support',\n",
       " 'importance_getter',\n",
       " 'inverse_transform',\n",
       " 'min_features_to_select',\n",
       " 'n_features_',\n",
       " 'n_features_in_',\n",
       " 'n_jobs',\n",
       " 'predict',\n",
       " 'predict_log_proba',\n",
       " 'predict_proba',\n",
       " 'ranking_',\n",
       " 'score',\n",
       " 'scoring',\n",
       " 'set_output',\n",
       " 'set_params',\n",
       " 'step',\n",
       " 'support_',\n",
       " 'transform',\n",
       " 'verbose']"
      ]
     },
     "execution_count": 72,
     "metadata": {},
     "output_type": "execute_result"
    }
   ],
   "source": [
    "dir(selector)"
   ]
  },
  {
   "cell_type": "code",
   "execution_count": 73,
   "id": "736458c2-110c-4c9d-86d5-cc36a5fc5762",
   "metadata": {},
   "outputs": [
    {
     "data": {
      "text/plain": [
       "13"
      ]
     },
     "execution_count": 73,
     "metadata": {},
     "output_type": "execute_result"
    }
   ],
   "source": [
    "selector.n_features_"
   ]
  },
  {
   "cell_type": "code",
   "execution_count": 75,
   "id": "b663b950-8ca8-408e-9995-9c76c8e5ac4b",
   "metadata": {},
   "outputs": [
    {
     "data": {
      "text/plain": [
       "array([ True,  True,  True,  True,  True,  True,  True, False,  True,\n",
       "        True,  True,  True, False,  True, False,  True])"
      ]
     },
     "execution_count": 75,
     "metadata": {},
     "output_type": "execute_result"
    }
   ],
   "source": [
    "selector.support_"
   ]
  },
  {
   "cell_type": "code",
   "execution_count": 79,
   "id": "36bb57e3-c53a-4a79-9b59-00bd045df83e",
   "metadata": {},
   "outputs": [
    {
     "data": {
      "text/plain": [
       "array(['Age', 'Income', 'LoanAmount', 'CreditScore', 'MonthsEmployed',\n",
       "       'NumCreditLines', 'InterestRate', 'DTIRatio', 'Education',\n",
       "       'EmploymentType', 'MaritalStatus', 'HasDependents', 'HasCoSigner'],\n",
       "      dtype=object)"
      ]
     },
     "execution_count": 79,
     "metadata": {},
     "output_type": "execute_result"
    }
   ],
   "source": [
    "selector.get_feature_names_out()"
   ]
  },
  {
   "cell_type": "code",
   "execution_count": 77,
   "id": "a5c3c481-e2a2-4f9c-bbeb-ab8852b0cf09",
   "metadata": {},
   "outputs": [
    {
     "data": {
      "text/html": [
       "<div>\n",
       "<style scoped>\n",
       "    .dataframe tbody tr th:only-of-type {\n",
       "        vertical-align: middle;\n",
       "    }\n",
       "\n",
       "    .dataframe tbody tr th {\n",
       "        vertical-align: top;\n",
       "    }\n",
       "\n",
       "    .dataframe thead th {\n",
       "        text-align: right;\n",
       "    }\n",
       "</style>\n",
       "<table border=\"1\" class=\"dataframe\">\n",
       "  <thead>\n",
       "    <tr style=\"text-align: right;\">\n",
       "      <th></th>\n",
       "      <th>Age</th>\n",
       "      <th>Income</th>\n",
       "      <th>LoanAmount</th>\n",
       "      <th>CreditScore</th>\n",
       "      <th>MonthsEmployed</th>\n",
       "      <th>NumCreditLines</th>\n",
       "      <th>InterestRate</th>\n",
       "      <th>DTIRatio</th>\n",
       "      <th>Education</th>\n",
       "      <th>EmploymentType</th>\n",
       "      <th>MaritalStatus</th>\n",
       "      <th>HasDependents</th>\n",
       "      <th>HasCoSigner</th>\n",
       "    </tr>\n",
       "  </thead>\n",
       "  <tbody>\n",
       "    <tr>\n",
       "      <th>0</th>\n",
       "      <td>56</td>\n",
       "      <td>85994</td>\n",
       "      <td>50587</td>\n",
       "      <td>520</td>\n",
       "      <td>80</td>\n",
       "      <td>4</td>\n",
       "      <td>15.23</td>\n",
       "      <td>0.44</td>\n",
       "      <td>0</td>\n",
       "      <td>0</td>\n",
       "      <td>0</td>\n",
       "      <td>1</td>\n",
       "      <td>1</td>\n",
       "    </tr>\n",
       "    <tr>\n",
       "      <th>1</th>\n",
       "      <td>69</td>\n",
       "      <td>50432</td>\n",
       "      <td>124440</td>\n",
       "      <td>458</td>\n",
       "      <td>15</td>\n",
       "      <td>1</td>\n",
       "      <td>4.81</td>\n",
       "      <td>0.68</td>\n",
       "      <td>2</td>\n",
       "      <td>0</td>\n",
       "      <td>1</td>\n",
       "      <td>0</td>\n",
       "      <td>1</td>\n",
       "    </tr>\n",
       "    <tr>\n",
       "      <th>2</th>\n",
       "      <td>46</td>\n",
       "      <td>84208</td>\n",
       "      <td>129188</td>\n",
       "      <td>451</td>\n",
       "      <td>26</td>\n",
       "      <td>3</td>\n",
       "      <td>21.17</td>\n",
       "      <td>0.31</td>\n",
       "      <td>2</td>\n",
       "      <td>3</td>\n",
       "      <td>0</td>\n",
       "      <td>1</td>\n",
       "      <td>0</td>\n",
       "    </tr>\n",
       "    <tr>\n",
       "      <th>3</th>\n",
       "      <td>32</td>\n",
       "      <td>31713</td>\n",
       "      <td>44799</td>\n",
       "      <td>743</td>\n",
       "      <td>0</td>\n",
       "      <td>3</td>\n",
       "      <td>7.07</td>\n",
       "      <td>0.23</td>\n",
       "      <td>1</td>\n",
       "      <td>0</td>\n",
       "      <td>1</td>\n",
       "      <td>0</td>\n",
       "      <td>0</td>\n",
       "    </tr>\n",
       "    <tr>\n",
       "      <th>4</th>\n",
       "      <td>60</td>\n",
       "      <td>20437</td>\n",
       "      <td>9139</td>\n",
       "      <td>633</td>\n",
       "      <td>8</td>\n",
       "      <td>4</td>\n",
       "      <td>6.51</td>\n",
       "      <td>0.73</td>\n",
       "      <td>0</td>\n",
       "      <td>3</td>\n",
       "      <td>0</td>\n",
       "      <td>1</td>\n",
       "      <td>0</td>\n",
       "    </tr>\n",
       "    <tr>\n",
       "      <th>...</th>\n",
       "      <td>...</td>\n",
       "      <td>...</td>\n",
       "      <td>...</td>\n",
       "      <td>...</td>\n",
       "      <td>...</td>\n",
       "      <td>...</td>\n",
       "      <td>...</td>\n",
       "      <td>...</td>\n",
       "      <td>...</td>\n",
       "      <td>...</td>\n",
       "      <td>...</td>\n",
       "      <td>...</td>\n",
       "      <td>...</td>\n",
       "    </tr>\n",
       "    <tr>\n",
       "      <th>255342</th>\n",
       "      <td>19</td>\n",
       "      <td>37979</td>\n",
       "      <td>210682</td>\n",
       "      <td>541</td>\n",
       "      <td>109</td>\n",
       "      <td>4</td>\n",
       "      <td>14.11</td>\n",
       "      <td>0.85</td>\n",
       "      <td>0</td>\n",
       "      <td>0</td>\n",
       "      <td>1</td>\n",
       "      <td>0</td>\n",
       "      <td>0</td>\n",
       "    </tr>\n",
       "    <tr>\n",
       "      <th>255343</th>\n",
       "      <td>32</td>\n",
       "      <td>51953</td>\n",
       "      <td>189899</td>\n",
       "      <td>511</td>\n",
       "      <td>14</td>\n",
       "      <td>2</td>\n",
       "      <td>11.55</td>\n",
       "      <td>0.21</td>\n",
       "      <td>1</td>\n",
       "      <td>1</td>\n",
       "      <td>0</td>\n",
       "      <td>0</td>\n",
       "      <td>0</td>\n",
       "    </tr>\n",
       "    <tr>\n",
       "      <th>255344</th>\n",
       "      <td>56</td>\n",
       "      <td>84820</td>\n",
       "      <td>208294</td>\n",
       "      <td>597</td>\n",
       "      <td>70</td>\n",
       "      <td>3</td>\n",
       "      <td>5.29</td>\n",
       "      <td>0.50</td>\n",
       "      <td>1</td>\n",
       "      <td>2</td>\n",
       "      <td>1</td>\n",
       "      <td>1</td>\n",
       "      <td>1</td>\n",
       "    </tr>\n",
       "    <tr>\n",
       "      <th>255345</th>\n",
       "      <td>42</td>\n",
       "      <td>85109</td>\n",
       "      <td>60575</td>\n",
       "      <td>809</td>\n",
       "      <td>40</td>\n",
       "      <td>1</td>\n",
       "      <td>20.90</td>\n",
       "      <td>0.44</td>\n",
       "      <td>1</td>\n",
       "      <td>1</td>\n",
       "      <td>2</td>\n",
       "      <td>1</td>\n",
       "      <td>0</td>\n",
       "    </tr>\n",
       "    <tr>\n",
       "      <th>255346</th>\n",
       "      <td>62</td>\n",
       "      <td>22418</td>\n",
       "      <td>18481</td>\n",
       "      <td>636</td>\n",
       "      <td>113</td>\n",
       "      <td>2</td>\n",
       "      <td>6.73</td>\n",
       "      <td>0.48</td>\n",
       "      <td>0</td>\n",
       "      <td>3</td>\n",
       "      <td>0</td>\n",
       "      <td>0</td>\n",
       "      <td>1</td>\n",
       "    </tr>\n",
       "  </tbody>\n",
       "</table>\n",
       "<p>255347 rows × 13 columns</p>\n",
       "</div>"
      ],
      "text/plain": [
       "        Age  Income  LoanAmount  CreditScore  MonthsEmployed  NumCreditLines  \\\n",
       "0        56   85994       50587          520              80               4   \n",
       "1        69   50432      124440          458              15               1   \n",
       "2        46   84208      129188          451              26               3   \n",
       "3        32   31713       44799          743               0               3   \n",
       "4        60   20437        9139          633               8               4   \n",
       "...     ...     ...         ...          ...             ...             ...   \n",
       "255342   19   37979      210682          541             109               4   \n",
       "255343   32   51953      189899          511              14               2   \n",
       "255344   56   84820      208294          597              70               3   \n",
       "255345   42   85109       60575          809              40               1   \n",
       "255346   62   22418       18481          636             113               2   \n",
       "\n",
       "        InterestRate  DTIRatio  Education  EmploymentType  MaritalStatus  \\\n",
       "0              15.23      0.44          0               0              0   \n",
       "1               4.81      0.68          2               0              1   \n",
       "2              21.17      0.31          2               3              0   \n",
       "3               7.07      0.23          1               0              1   \n",
       "4               6.51      0.73          0               3              0   \n",
       "...              ...       ...        ...             ...            ...   \n",
       "255342         14.11      0.85          0               0              1   \n",
       "255343         11.55      0.21          1               1              0   \n",
       "255344          5.29      0.50          1               2              1   \n",
       "255345         20.90      0.44          1               1              2   \n",
       "255346          6.73      0.48          0               3              0   \n",
       "\n",
       "        HasDependents  HasCoSigner  \n",
       "0                   1            1  \n",
       "1                   0            1  \n",
       "2                   1            0  \n",
       "3                   0            0  \n",
       "4                   1            0  \n",
       "...               ...          ...  \n",
       "255342              0            0  \n",
       "255343              0            0  \n",
       "255344              1            1  \n",
       "255345              1            0  \n",
       "255346              0            1  \n",
       "\n",
       "[255347 rows x 13 columns]"
      ]
     },
     "execution_count": 77,
     "metadata": {},
     "output_type": "execute_result"
    }
   ],
   "source": [
    "X.loc[:, selector.support_]"
   ]
  },
  {
   "cell_type": "code",
   "execution_count": 80,
   "id": "1955e3e8-abb7-455d-a501-f368944d0f50",
   "metadata": {},
   "outputs": [],
   "source": [
    "excluidas = []\n",
    "for a in X.columns:\n",
    "    if a not in selector.get_feature_names_out():\n",
    "        excluidas.append(a)"
   ]
  },
  {
   "cell_type": "code",
   "execution_count": 81,
   "id": "835076b4-f5e6-4b04-879b-9021a1e0234f",
   "metadata": {},
   "outputs": [
    {
     "data": {
      "text/plain": [
       "['LoanTerm', 'HasMortgage', 'LoanPurpose']"
      ]
     },
     "execution_count": 81,
     "metadata": {},
     "output_type": "execute_result"
    }
   ],
   "source": [
    "excluidas"
   ]
  },
  {
   "cell_type": "code",
   "execution_count": 82,
   "id": "19acd6c3-c708-4ae9-9553-b84ee60a579d",
   "metadata": {},
   "outputs": [],
   "source": [
    "X_selec = X.loc[:, selector.support_]"
   ]
  },
  {
   "cell_type": "code",
   "execution_count": null,
   "id": "82d83d5f-ad8d-4b54-b83c-4671a4c6073b",
   "metadata": {},
   "outputs": [],
   "source": []
  },
  {
   "cell_type": "code",
   "execution_count": 84,
   "id": "d8b0fcf0-680c-4ef0-8da4-a536456a8433",
   "metadata": {},
   "outputs": [
    {
     "name": "stdout",
     "output_type": "stream",
     "text": [
      "0.7524559943683815\n"
     ]
    }
   ],
   "source": [
    "lgb = LGBMClassifier(max_depth=6, n_estimators=70, num_leaves=25, learning_rate=0.10)\n",
    "cv = cross_val_score(lgb, X_selec, y, cv=5, scoring='roc_auc').mean()\n",
    "print(cv)"
   ]
  },
  {
   "cell_type": "code",
   "execution_count": null,
   "id": "2e4d5b7a-029f-4e43-9b44-1173175a6152",
   "metadata": {},
   "outputs": [],
   "source": []
  },
  {
   "cell_type": "code",
   "execution_count": null,
   "id": "a3f647de-7acb-4dbe-88bf-2b1b896d8bad",
   "metadata": {},
   "outputs": [],
   "source": []
  },
  {
   "cell_type": "markdown",
   "id": "bff11444-cefe-4222-9f86-4f51ff915dee",
   "metadata": {
    "tags": []
   },
   "source": [
    "#### Feature engineering"
   ]
  },
  {
   "cell_type": "markdown",
   "id": "1ba2e65b-a093-4b6f-961b-9a31a66d95f1",
   "metadata": {},
   "source": [
    "Testar se a criação de uma nova variável aumenta a performance do modelo"
   ]
  },
  {
   "cell_type": "markdown",
   "id": "209a8af7-3f1f-498c-89d4-a142aba84a9a",
   "metadata": {},
   "source": [
    "Variável proposta: \"Comprometimento de renda\" - LoanAmount / Income\n",
    "\n",
    "Quanto a dívida representa da renda anual"
   ]
  },
  {
   "cell_type": "code",
   "execution_count": 85,
   "id": "1d061813-474e-4403-9ab4-8a528f93c7f0",
   "metadata": {},
   "outputs": [],
   "source": [
    "X_selec['CompRenda'] = X_selec['LoanAmount'] / X_selec['Income']"
   ]
  },
  {
   "cell_type": "code",
   "execution_count": 86,
   "id": "5e08c3d6-b5f4-467e-ba21-f14ec6378809",
   "metadata": {},
   "outputs": [
    {
     "data": {
      "text/html": [
       "<div>\n",
       "<style scoped>\n",
       "    .dataframe tbody tr th:only-of-type {\n",
       "        vertical-align: middle;\n",
       "    }\n",
       "\n",
       "    .dataframe tbody tr th {\n",
       "        vertical-align: top;\n",
       "    }\n",
       "\n",
       "    .dataframe thead th {\n",
       "        text-align: right;\n",
       "    }\n",
       "</style>\n",
       "<table border=\"1\" class=\"dataframe\">\n",
       "  <thead>\n",
       "    <tr style=\"text-align: right;\">\n",
       "      <th></th>\n",
       "      <th>Age</th>\n",
       "      <th>Income</th>\n",
       "      <th>LoanAmount</th>\n",
       "      <th>CreditScore</th>\n",
       "      <th>MonthsEmployed</th>\n",
       "      <th>NumCreditLines</th>\n",
       "      <th>InterestRate</th>\n",
       "      <th>DTIRatio</th>\n",
       "      <th>Education</th>\n",
       "      <th>EmploymentType</th>\n",
       "      <th>MaritalStatus</th>\n",
       "      <th>HasDependents</th>\n",
       "      <th>HasCoSigner</th>\n",
       "      <th>CompRenda</th>\n",
       "    </tr>\n",
       "  </thead>\n",
       "  <tbody>\n",
       "    <tr>\n",
       "      <th>0</th>\n",
       "      <td>56</td>\n",
       "      <td>85994</td>\n",
       "      <td>50587</td>\n",
       "      <td>520</td>\n",
       "      <td>80</td>\n",
       "      <td>4</td>\n",
       "      <td>15.23</td>\n",
       "      <td>0.44</td>\n",
       "      <td>0</td>\n",
       "      <td>0</td>\n",
       "      <td>0</td>\n",
       "      <td>1</td>\n",
       "      <td>1</td>\n",
       "      <td>0.588262</td>\n",
       "    </tr>\n",
       "    <tr>\n",
       "      <th>1</th>\n",
       "      <td>69</td>\n",
       "      <td>50432</td>\n",
       "      <td>124440</td>\n",
       "      <td>458</td>\n",
       "      <td>15</td>\n",
       "      <td>1</td>\n",
       "      <td>4.81</td>\n",
       "      <td>0.68</td>\n",
       "      <td>2</td>\n",
       "      <td>0</td>\n",
       "      <td>1</td>\n",
       "      <td>0</td>\n",
       "      <td>1</td>\n",
       "      <td>2.467481</td>\n",
       "    </tr>\n",
       "    <tr>\n",
       "      <th>2</th>\n",
       "      <td>46</td>\n",
       "      <td>84208</td>\n",
       "      <td>129188</td>\n",
       "      <td>451</td>\n",
       "      <td>26</td>\n",
       "      <td>3</td>\n",
       "      <td>21.17</td>\n",
       "      <td>0.31</td>\n",
       "      <td>2</td>\n",
       "      <td>3</td>\n",
       "      <td>0</td>\n",
       "      <td>1</td>\n",
       "      <td>0</td>\n",
       "      <td>1.534154</td>\n",
       "    </tr>\n",
       "    <tr>\n",
       "      <th>3</th>\n",
       "      <td>32</td>\n",
       "      <td>31713</td>\n",
       "      <td>44799</td>\n",
       "      <td>743</td>\n",
       "      <td>0</td>\n",
       "      <td>3</td>\n",
       "      <td>7.07</td>\n",
       "      <td>0.23</td>\n",
       "      <td>1</td>\n",
       "      <td>0</td>\n",
       "      <td>1</td>\n",
       "      <td>0</td>\n",
       "      <td>0</td>\n",
       "      <td>1.412638</td>\n",
       "    </tr>\n",
       "    <tr>\n",
       "      <th>4</th>\n",
       "      <td>60</td>\n",
       "      <td>20437</td>\n",
       "      <td>9139</td>\n",
       "      <td>633</td>\n",
       "      <td>8</td>\n",
       "      <td>4</td>\n",
       "      <td>6.51</td>\n",
       "      <td>0.73</td>\n",
       "      <td>0</td>\n",
       "      <td>3</td>\n",
       "      <td>0</td>\n",
       "      <td>1</td>\n",
       "      <td>0</td>\n",
       "      <td>0.447179</td>\n",
       "    </tr>\n",
       "    <tr>\n",
       "      <th>...</th>\n",
       "      <td>...</td>\n",
       "      <td>...</td>\n",
       "      <td>...</td>\n",
       "      <td>...</td>\n",
       "      <td>...</td>\n",
       "      <td>...</td>\n",
       "      <td>...</td>\n",
       "      <td>...</td>\n",
       "      <td>...</td>\n",
       "      <td>...</td>\n",
       "      <td>...</td>\n",
       "      <td>...</td>\n",
       "      <td>...</td>\n",
       "      <td>...</td>\n",
       "    </tr>\n",
       "    <tr>\n",
       "      <th>255342</th>\n",
       "      <td>19</td>\n",
       "      <td>37979</td>\n",
       "      <td>210682</td>\n",
       "      <td>541</td>\n",
       "      <td>109</td>\n",
       "      <td>4</td>\n",
       "      <td>14.11</td>\n",
       "      <td>0.85</td>\n",
       "      <td>0</td>\n",
       "      <td>0</td>\n",
       "      <td>1</td>\n",
       "      <td>0</td>\n",
       "      <td>0</td>\n",
       "      <td>5.547329</td>\n",
       "    </tr>\n",
       "    <tr>\n",
       "      <th>255343</th>\n",
       "      <td>32</td>\n",
       "      <td>51953</td>\n",
       "      <td>189899</td>\n",
       "      <td>511</td>\n",
       "      <td>14</td>\n",
       "      <td>2</td>\n",
       "      <td>11.55</td>\n",
       "      <td>0.21</td>\n",
       "      <td>1</td>\n",
       "      <td>1</td>\n",
       "      <td>0</td>\n",
       "      <td>0</td>\n",
       "      <td>0</td>\n",
       "      <td>3.655208</td>\n",
       "    </tr>\n",
       "    <tr>\n",
       "      <th>255344</th>\n",
       "      <td>56</td>\n",
       "      <td>84820</td>\n",
       "      <td>208294</td>\n",
       "      <td>597</td>\n",
       "      <td>70</td>\n",
       "      <td>3</td>\n",
       "      <td>5.29</td>\n",
       "      <td>0.50</td>\n",
       "      <td>1</td>\n",
       "      <td>2</td>\n",
       "      <td>1</td>\n",
       "      <td>1</td>\n",
       "      <td>1</td>\n",
       "      <td>2.455718</td>\n",
       "    </tr>\n",
       "    <tr>\n",
       "      <th>255345</th>\n",
       "      <td>42</td>\n",
       "      <td>85109</td>\n",
       "      <td>60575</td>\n",
       "      <td>809</td>\n",
       "      <td>40</td>\n",
       "      <td>1</td>\n",
       "      <td>20.90</td>\n",
       "      <td>0.44</td>\n",
       "      <td>1</td>\n",
       "      <td>1</td>\n",
       "      <td>2</td>\n",
       "      <td>1</td>\n",
       "      <td>0</td>\n",
       "      <td>0.711734</td>\n",
       "    </tr>\n",
       "    <tr>\n",
       "      <th>255346</th>\n",
       "      <td>62</td>\n",
       "      <td>22418</td>\n",
       "      <td>18481</td>\n",
       "      <td>636</td>\n",
       "      <td>113</td>\n",
       "      <td>2</td>\n",
       "      <td>6.73</td>\n",
       "      <td>0.48</td>\n",
       "      <td>0</td>\n",
       "      <td>3</td>\n",
       "      <td>0</td>\n",
       "      <td>0</td>\n",
       "      <td>1</td>\n",
       "      <td>0.824382</td>\n",
       "    </tr>\n",
       "  </tbody>\n",
       "</table>\n",
       "<p>255347 rows × 14 columns</p>\n",
       "</div>"
      ],
      "text/plain": [
       "        Age  Income  LoanAmount  CreditScore  MonthsEmployed  NumCreditLines  \\\n",
       "0        56   85994       50587          520              80               4   \n",
       "1        69   50432      124440          458              15               1   \n",
       "2        46   84208      129188          451              26               3   \n",
       "3        32   31713       44799          743               0               3   \n",
       "4        60   20437        9139          633               8               4   \n",
       "...     ...     ...         ...          ...             ...             ...   \n",
       "255342   19   37979      210682          541             109               4   \n",
       "255343   32   51953      189899          511              14               2   \n",
       "255344   56   84820      208294          597              70               3   \n",
       "255345   42   85109       60575          809              40               1   \n",
       "255346   62   22418       18481          636             113               2   \n",
       "\n",
       "        InterestRate  DTIRatio  Education  EmploymentType  MaritalStatus  \\\n",
       "0              15.23      0.44          0               0              0   \n",
       "1               4.81      0.68          2               0              1   \n",
       "2              21.17      0.31          2               3              0   \n",
       "3               7.07      0.23          1               0              1   \n",
       "4               6.51      0.73          0               3              0   \n",
       "...              ...       ...        ...             ...            ...   \n",
       "255342         14.11      0.85          0               0              1   \n",
       "255343         11.55      0.21          1               1              0   \n",
       "255344          5.29      0.50          1               2              1   \n",
       "255345         20.90      0.44          1               1              2   \n",
       "255346          6.73      0.48          0               3              0   \n",
       "\n",
       "        HasDependents  HasCoSigner  CompRenda  \n",
       "0                   1            1   0.588262  \n",
       "1                   0            1   2.467481  \n",
       "2                   1            0   1.534154  \n",
       "3                   0            0   1.412638  \n",
       "4                   1            0   0.447179  \n",
       "...               ...          ...        ...  \n",
       "255342              0            0   5.547329  \n",
       "255343              0            0   3.655208  \n",
       "255344              1            1   2.455718  \n",
       "255345              1            0   0.711734  \n",
       "255346              0            1   0.824382  \n",
       "\n",
       "[255347 rows x 14 columns]"
      ]
     },
     "execution_count": 86,
     "metadata": {},
     "output_type": "execute_result"
    }
   ],
   "source": [
    "X_selec"
   ]
  },
  {
   "cell_type": "code",
   "execution_count": null,
   "id": "77d26a2f-62f9-4714-920d-5d92742e2f44",
   "metadata": {},
   "outputs": [],
   "source": []
  },
  {
   "cell_type": "code",
   "execution_count": 87,
   "id": "0815db1e-cbcc-4af2-a431-ceb92e0d9965",
   "metadata": {},
   "outputs": [
    {
     "name": "stdout",
     "output_type": "stream",
     "text": [
      "0.7524457455586233\n"
     ]
    }
   ],
   "source": [
    "lgb = LGBMClassifier(max_depth=6, n_estimators=70, num_leaves=25, learning_rate=0.10)\n",
    "cv = cross_val_score(lgb, X_selec, y, cv=5, scoring='roc_auc').mean()\n",
    "print(cv)"
   ]
  },
  {
   "cell_type": "markdown",
   "id": "1e46bb51-ba99-4550-9824-d6e3dd0d0948",
   "metadata": {},
   "source": [
    "A variável criada não melhorou o modelo"
   ]
  },
  {
   "cell_type": "code",
   "execution_count": 89,
   "id": "247b28f8-f2a1-413a-b07f-f86a30353cc1",
   "metadata": {},
   "outputs": [],
   "source": [
    "X_selec.drop(['CompRenda'], axis=1, inplace=True)"
   ]
  },
  {
   "cell_type": "code",
   "execution_count": null,
   "id": "8fa281a4-45c9-4432-bb0e-007c385d85cb",
   "metadata": {},
   "outputs": [],
   "source": []
  },
  {
   "cell_type": "code",
   "execution_count": 90,
   "id": "b2ea5007-9805-492e-b145-82bf1ce54e44",
   "metadata": {
    "collapsed": true,
    "jupyter": {
     "outputs_hidden": true
    },
    "tags": []
   },
   "outputs": [
    {
     "data": {
      "text/html": [
       "<div>\n",
       "<style scoped>\n",
       "    .dataframe tbody tr th:only-of-type {\n",
       "        vertical-align: middle;\n",
       "    }\n",
       "\n",
       "    .dataframe tbody tr th {\n",
       "        vertical-align: top;\n",
       "    }\n",
       "\n",
       "    .dataframe thead th {\n",
       "        text-align: right;\n",
       "    }\n",
       "</style>\n",
       "<table border=\"1\" class=\"dataframe\">\n",
       "  <thead>\n",
       "    <tr style=\"text-align: right;\">\n",
       "      <th></th>\n",
       "      <th>Age</th>\n",
       "      <th>Income</th>\n",
       "      <th>LoanAmount</th>\n",
       "      <th>CreditScore</th>\n",
       "      <th>MonthsEmployed</th>\n",
       "      <th>NumCreditLines</th>\n",
       "      <th>InterestRate</th>\n",
       "      <th>DTIRatio</th>\n",
       "      <th>Education</th>\n",
       "      <th>EmploymentType</th>\n",
       "      <th>MaritalStatus</th>\n",
       "      <th>HasDependents</th>\n",
       "      <th>HasCoSigner</th>\n",
       "    </tr>\n",
       "  </thead>\n",
       "  <tbody>\n",
       "    <tr>\n",
       "      <th>Age</th>\n",
       "      <td>1.000000</td>\n",
       "      <td>-0.001244</td>\n",
       "      <td>-0.002213</td>\n",
       "      <td>-0.000548</td>\n",
       "      <td>-0.000341</td>\n",
       "      <td>-0.000890</td>\n",
       "      <td>-0.001127</td>\n",
       "      <td>-0.004689</td>\n",
       "      <td>-0.000882</td>\n",
       "      <td>0.000787</td>\n",
       "      <td>-0.002187</td>\n",
       "      <td>0.000710</td>\n",
       "      <td>-0.002918</td>\n",
       "    </tr>\n",
       "    <tr>\n",
       "      <th>Income</th>\n",
       "      <td>-0.001244</td>\n",
       "      <td>1.000000</td>\n",
       "      <td>-0.000865</td>\n",
       "      <td>-0.001430</td>\n",
       "      <td>0.002675</td>\n",
       "      <td>-0.002016</td>\n",
       "      <td>-0.002303</td>\n",
       "      <td>0.000205</td>\n",
       "      <td>-0.000965</td>\n",
       "      <td>-0.005146</td>\n",
       "      <td>0.000637</td>\n",
       "      <td>-0.001570</td>\n",
       "      <td>-0.003524</td>\n",
       "    </tr>\n",
       "    <tr>\n",
       "      <th>LoanAmount</th>\n",
       "      <td>-0.002213</td>\n",
       "      <td>-0.000865</td>\n",
       "      <td>1.000000</td>\n",
       "      <td>0.001261</td>\n",
       "      <td>0.002817</td>\n",
       "      <td>0.000794</td>\n",
       "      <td>-0.002291</td>\n",
       "      <td>0.001122</td>\n",
       "      <td>0.002551</td>\n",
       "      <td>0.003060</td>\n",
       "      <td>-0.000771</td>\n",
       "      <td>0.000139</td>\n",
       "      <td>-0.001848</td>\n",
       "    </tr>\n",
       "    <tr>\n",
       "      <th>CreditScore</th>\n",
       "      <td>-0.000548</td>\n",
       "      <td>-0.001430</td>\n",
       "      <td>0.001261</td>\n",
       "      <td>1.000000</td>\n",
       "      <td>0.000613</td>\n",
       "      <td>0.000016</td>\n",
       "      <td>0.000436</td>\n",
       "      <td>-0.001039</td>\n",
       "      <td>0.000214</td>\n",
       "      <td>0.003503</td>\n",
       "      <td>-0.003218</td>\n",
       "      <td>-0.003018</td>\n",
       "      <td>-0.002755</td>\n",
       "    </tr>\n",
       "    <tr>\n",
       "      <th>MonthsEmployed</th>\n",
       "      <td>-0.000341</td>\n",
       "      <td>0.002675</td>\n",
       "      <td>0.002817</td>\n",
       "      <td>0.000613</td>\n",
       "      <td>1.000000</td>\n",
       "      <td>0.001267</td>\n",
       "      <td>0.000096</td>\n",
       "      <td>0.001765</td>\n",
       "      <td>-0.001304</td>\n",
       "      <td>0.000564</td>\n",
       "      <td>-0.000095</td>\n",
       "      <td>0.001450</td>\n",
       "      <td>0.001045</td>\n",
       "    </tr>\n",
       "    <tr>\n",
       "      <th>NumCreditLines</th>\n",
       "      <td>-0.000890</td>\n",
       "      <td>-0.002016</td>\n",
       "      <td>0.000794</td>\n",
       "      <td>0.000016</td>\n",
       "      <td>0.001267</td>\n",
       "      <td>1.000000</td>\n",
       "      <td>-0.000297</td>\n",
       "      <td>-0.000586</td>\n",
       "      <td>0.002691</td>\n",
       "      <td>0.000219</td>\n",
       "      <td>-0.000664</td>\n",
       "      <td>-0.001895</td>\n",
       "      <td>0.002105</td>\n",
       "    </tr>\n",
       "    <tr>\n",
       "      <th>InterestRate</th>\n",
       "      <td>-0.001127</td>\n",
       "      <td>-0.002303</td>\n",
       "      <td>-0.002291</td>\n",
       "      <td>0.000436</td>\n",
       "      <td>0.000096</td>\n",
       "      <td>-0.000297</td>\n",
       "      <td>1.000000</td>\n",
       "      <td>0.000575</td>\n",
       "      <td>0.002879</td>\n",
       "      <td>0.000525</td>\n",
       "      <td>-0.005079</td>\n",
       "      <td>-0.000243</td>\n",
       "      <td>-0.003991</td>\n",
       "    </tr>\n",
       "    <tr>\n",
       "      <th>DTIRatio</th>\n",
       "      <td>-0.004689</td>\n",
       "      <td>0.000205</td>\n",
       "      <td>0.001122</td>\n",
       "      <td>-0.001039</td>\n",
       "      <td>0.001765</td>\n",
       "      <td>-0.000586</td>\n",
       "      <td>0.000575</td>\n",
       "      <td>1.000000</td>\n",
       "      <td>0.001789</td>\n",
       "      <td>-0.000578</td>\n",
       "      <td>0.004492</td>\n",
       "      <td>0.001492</td>\n",
       "      <td>0.000373</td>\n",
       "    </tr>\n",
       "    <tr>\n",
       "      <th>Education</th>\n",
       "      <td>-0.000882</td>\n",
       "      <td>-0.000965</td>\n",
       "      <td>0.002551</td>\n",
       "      <td>0.000214</td>\n",
       "      <td>-0.001304</td>\n",
       "      <td>0.002691</td>\n",
       "      <td>0.002879</td>\n",
       "      <td>0.001789</td>\n",
       "      <td>1.000000</td>\n",
       "      <td>0.000236</td>\n",
       "      <td>-0.004717</td>\n",
       "      <td>0.001048</td>\n",
       "      <td>0.001707</td>\n",
       "    </tr>\n",
       "    <tr>\n",
       "      <th>EmploymentType</th>\n",
       "      <td>0.000787</td>\n",
       "      <td>-0.005146</td>\n",
       "      <td>0.003060</td>\n",
       "      <td>0.003503</td>\n",
       "      <td>0.000564</td>\n",
       "      <td>0.000219</td>\n",
       "      <td>0.000525</td>\n",
       "      <td>-0.000578</td>\n",
       "      <td>0.000236</td>\n",
       "      <td>1.000000</td>\n",
       "      <td>0.002768</td>\n",
       "      <td>0.002480</td>\n",
       "      <td>-0.000033</td>\n",
       "    </tr>\n",
       "    <tr>\n",
       "      <th>MaritalStatus</th>\n",
       "      <td>-0.002187</td>\n",
       "      <td>0.000637</td>\n",
       "      <td>-0.000771</td>\n",
       "      <td>-0.003218</td>\n",
       "      <td>-0.000095</td>\n",
       "      <td>-0.000664</td>\n",
       "      <td>-0.005079</td>\n",
       "      <td>0.004492</td>\n",
       "      <td>-0.004717</td>\n",
       "      <td>0.002768</td>\n",
       "      <td>1.000000</td>\n",
       "      <td>-0.000437</td>\n",
       "      <td>-0.000888</td>\n",
       "    </tr>\n",
       "    <tr>\n",
       "      <th>HasDependents</th>\n",
       "      <td>0.000710</td>\n",
       "      <td>-0.001570</td>\n",
       "      <td>0.000139</td>\n",
       "      <td>-0.003018</td>\n",
       "      <td>0.001450</td>\n",
       "      <td>-0.001895</td>\n",
       "      <td>-0.000243</td>\n",
       "      <td>0.001492</td>\n",
       "      <td>0.001048</td>\n",
       "      <td>0.002480</td>\n",
       "      <td>-0.000437</td>\n",
       "      <td>1.000000</td>\n",
       "      <td>0.001602</td>\n",
       "    </tr>\n",
       "    <tr>\n",
       "      <th>HasCoSigner</th>\n",
       "      <td>-0.002918</td>\n",
       "      <td>-0.003524</td>\n",
       "      <td>-0.001848</td>\n",
       "      <td>-0.002755</td>\n",
       "      <td>0.001045</td>\n",
       "      <td>0.002105</td>\n",
       "      <td>-0.003991</td>\n",
       "      <td>0.000373</td>\n",
       "      <td>0.001707</td>\n",
       "      <td>-0.000033</td>\n",
       "      <td>-0.000888</td>\n",
       "      <td>0.001602</td>\n",
       "      <td>1.000000</td>\n",
       "    </tr>\n",
       "  </tbody>\n",
       "</table>\n",
       "</div>"
      ],
      "text/plain": [
       "                     Age    Income  LoanAmount  CreditScore  MonthsEmployed  \\\n",
       "Age             1.000000 -0.001244   -0.002213    -0.000548       -0.000341   \n",
       "Income         -0.001244  1.000000   -0.000865    -0.001430        0.002675   \n",
       "LoanAmount     -0.002213 -0.000865    1.000000     0.001261        0.002817   \n",
       "CreditScore    -0.000548 -0.001430    0.001261     1.000000        0.000613   \n",
       "MonthsEmployed -0.000341  0.002675    0.002817     0.000613        1.000000   \n",
       "NumCreditLines -0.000890 -0.002016    0.000794     0.000016        0.001267   \n",
       "InterestRate   -0.001127 -0.002303   -0.002291     0.000436        0.000096   \n",
       "DTIRatio       -0.004689  0.000205    0.001122    -0.001039        0.001765   \n",
       "Education      -0.000882 -0.000965    0.002551     0.000214       -0.001304   \n",
       "EmploymentType  0.000787 -0.005146    0.003060     0.003503        0.000564   \n",
       "MaritalStatus  -0.002187  0.000637   -0.000771    -0.003218       -0.000095   \n",
       "HasDependents   0.000710 -0.001570    0.000139    -0.003018        0.001450   \n",
       "HasCoSigner    -0.002918 -0.003524   -0.001848    -0.002755        0.001045   \n",
       "\n",
       "                NumCreditLines  InterestRate  DTIRatio  Education  \\\n",
       "Age                  -0.000890     -0.001127 -0.004689  -0.000882   \n",
       "Income               -0.002016     -0.002303  0.000205  -0.000965   \n",
       "LoanAmount            0.000794     -0.002291  0.001122   0.002551   \n",
       "CreditScore           0.000016      0.000436 -0.001039   0.000214   \n",
       "MonthsEmployed        0.001267      0.000096  0.001765  -0.001304   \n",
       "NumCreditLines        1.000000     -0.000297 -0.000586   0.002691   \n",
       "InterestRate         -0.000297      1.000000  0.000575   0.002879   \n",
       "DTIRatio             -0.000586      0.000575  1.000000   0.001789   \n",
       "Education             0.002691      0.002879  0.001789   1.000000   \n",
       "EmploymentType        0.000219      0.000525 -0.000578   0.000236   \n",
       "MaritalStatus        -0.000664     -0.005079  0.004492  -0.004717   \n",
       "HasDependents        -0.001895     -0.000243  0.001492   0.001048   \n",
       "HasCoSigner           0.002105     -0.003991  0.000373   0.001707   \n",
       "\n",
       "                EmploymentType  MaritalStatus  HasDependents  HasCoSigner  \n",
       "Age                   0.000787      -0.002187       0.000710    -0.002918  \n",
       "Income               -0.005146       0.000637      -0.001570    -0.003524  \n",
       "LoanAmount            0.003060      -0.000771       0.000139    -0.001848  \n",
       "CreditScore           0.003503      -0.003218      -0.003018    -0.002755  \n",
       "MonthsEmployed        0.000564      -0.000095       0.001450     0.001045  \n",
       "NumCreditLines        0.000219      -0.000664      -0.001895     0.002105  \n",
       "InterestRate          0.000525      -0.005079      -0.000243    -0.003991  \n",
       "DTIRatio             -0.000578       0.004492       0.001492     0.000373  \n",
       "Education             0.000236      -0.004717       0.001048     0.001707  \n",
       "EmploymentType        1.000000       0.002768       0.002480    -0.000033  \n",
       "MaritalStatus         0.002768       1.000000      -0.000437    -0.000888  \n",
       "HasDependents         0.002480      -0.000437       1.000000     0.001602  \n",
       "HasCoSigner          -0.000033      -0.000888       0.001602     1.000000  "
      ]
     },
     "execution_count": 90,
     "metadata": {},
     "output_type": "execute_result"
    }
   ],
   "source": [
    "X_selec.corr()"
   ]
  },
  {
   "cell_type": "markdown",
   "id": "4f80a93d-404a-468f-86e9-3d220655cee4",
   "metadata": {},
   "source": [
    "#### Modelo Final"
   ]
  },
  {
   "cell_type": "markdown",
   "id": "b0b72d70-08d3-442b-a6cc-75afc96acec6",
   "metadata": {},
   "source": [
    "A partir dos passos anteriores, chegamos ao modelo final:\n",
    "\n",
    "Melhor algoritmo: LightGBM\n",
    "</br>Quantidade de variáveis: 13"
   ]
  },
  {
   "cell_type": "code",
   "execution_count": 213,
   "id": "1f3b20c0-81d1-40a9-aa71-841539f2aedf",
   "metadata": {},
   "outputs": [
    {
     "data": {
      "text/html": [
       "<div>\n",
       "<style scoped>\n",
       "    .dataframe tbody tr th:only-of-type {\n",
       "        vertical-align: middle;\n",
       "    }\n",
       "\n",
       "    .dataframe tbody tr th {\n",
       "        vertical-align: top;\n",
       "    }\n",
       "\n",
       "    .dataframe thead th {\n",
       "        text-align: right;\n",
       "    }\n",
       "</style>\n",
       "<table border=\"1\" class=\"dataframe\">\n",
       "  <thead>\n",
       "    <tr style=\"text-align: right;\">\n",
       "      <th></th>\n",
       "      <th>LoanID</th>\n",
       "      <th>Age</th>\n",
       "      <th>Income</th>\n",
       "      <th>LoanAmount</th>\n",
       "      <th>CreditScore</th>\n",
       "      <th>MonthsEmployed</th>\n",
       "      <th>NumCreditLines</th>\n",
       "      <th>InterestRate</th>\n",
       "      <th>LoanTerm</th>\n",
       "      <th>DTIRatio</th>\n",
       "      <th>Education</th>\n",
       "      <th>EmploymentType</th>\n",
       "      <th>MaritalStatus</th>\n",
       "      <th>HasMortgage</th>\n",
       "      <th>HasDependents</th>\n",
       "      <th>LoanPurpose</th>\n",
       "      <th>HasCoSigner</th>\n",
       "      <th>Default</th>\n",
       "    </tr>\n",
       "  </thead>\n",
       "  <tbody>\n",
       "    <tr>\n",
       "      <th>0</th>\n",
       "      <td>I38PQUQS96</td>\n",
       "      <td>56</td>\n",
       "      <td>85994</td>\n",
       "      <td>50587</td>\n",
       "      <td>520</td>\n",
       "      <td>80</td>\n",
       "      <td>4</td>\n",
       "      <td>15.23</td>\n",
       "      <td>36</td>\n",
       "      <td>0.44</td>\n",
       "      <td>0</td>\n",
       "      <td>0</td>\n",
       "      <td>0</td>\n",
       "      <td>1</td>\n",
       "      <td>1</td>\n",
       "      <td>4</td>\n",
       "      <td>1</td>\n",
       "      <td>0</td>\n",
       "    </tr>\n",
       "    <tr>\n",
       "      <th>1</th>\n",
       "      <td>HPSK72WA7R</td>\n",
       "      <td>69</td>\n",
       "      <td>50432</td>\n",
       "      <td>124440</td>\n",
       "      <td>458</td>\n",
       "      <td>15</td>\n",
       "      <td>1</td>\n",
       "      <td>4.81</td>\n",
       "      <td>60</td>\n",
       "      <td>0.68</td>\n",
       "      <td>2</td>\n",
       "      <td>0</td>\n",
       "      <td>1</td>\n",
       "      <td>0</td>\n",
       "      <td>0</td>\n",
       "      <td>4</td>\n",
       "      <td>1</td>\n",
       "      <td>0</td>\n",
       "    </tr>\n",
       "  </tbody>\n",
       "</table>\n",
       "</div>"
      ],
      "text/plain": [
       "       LoanID  Age  Income  LoanAmount  CreditScore  MonthsEmployed  \\\n",
       "0  I38PQUQS96   56   85994       50587          520              80   \n",
       "1  HPSK72WA7R   69   50432      124440          458              15   \n",
       "\n",
       "   NumCreditLines  InterestRate  LoanTerm  DTIRatio  Education  \\\n",
       "0               4         15.23        36      0.44          0   \n",
       "1               1          4.81        60      0.68          2   \n",
       "\n",
       "   EmploymentType  MaritalStatus  HasMortgage  HasDependents  LoanPurpose  \\\n",
       "0               0              0            1              1            4   \n",
       "1               0              1            0              0            4   \n",
       "\n",
       "   HasCoSigner  Default  \n",
       "0            1        0  \n",
       "1            1        0  "
      ]
     },
     "execution_count": 213,
     "metadata": {},
     "output_type": "execute_result"
    }
   ],
   "source": [
    "df.head(2)"
   ]
  },
  {
   "cell_type": "code",
   "execution_count": 205,
   "id": "6e6d89cb-b5ab-4650-8844-5db0ffa27d52",
   "metadata": {},
   "outputs": [],
   "source": [
    "X = df.loc[:, selector.get_feature_names_out()]\n",
    "y = df['Default']"
   ]
  },
  {
   "cell_type": "code",
   "execution_count": 206,
   "id": "4a0868db-60ef-4118-aa9c-104d2ceb1015",
   "metadata": {},
   "outputs": [],
   "source": [
    "# Split em treino e teste\n",
    "X_train, X_test, y_train, y_test = train_test_split(X, y, test_size=0.2, random_state=24)"
   ]
  },
  {
   "cell_type": "code",
   "execution_count": 207,
   "id": "acd2ff67-f308-4543-adf8-5ee73f588ee6",
   "metadata": {},
   "outputs": [
    {
     "data": {
      "text/plain": [
       "((204277, 13), (51070, 13), (204277,), (51070,))"
      ]
     },
     "execution_count": 207,
     "metadata": {},
     "output_type": "execute_result"
    }
   ],
   "source": [
    "X_train.shape, X_test.shape, y_train.shape, y_test.shape"
   ]
  },
  {
   "cell_type": "code",
   "execution_count": 216,
   "id": "75f7019d-cc0b-430b-92d4-19b183457747",
   "metadata": {},
   "outputs": [],
   "source": [
    "# Treinando o modelo\n",
    "lgb = LGBMClassifier(max_depth=6, n_estimators=70, num_leaves=25, learning_rate=0.10)"
   ]
  },
  {
   "cell_type": "code",
   "execution_count": 217,
   "id": "218b02d2-7b9f-487f-b719-092574fde9c3",
   "metadata": {
    "collapsed": true,
    "jupyter": {
     "outputs_hidden": true
    },
    "tags": []
   },
   "outputs": [
    {
     "data": {
      "text/html": [
       "<style>#sk-container-id-12 {color: black;background-color: white;}#sk-container-id-12 pre{padding: 0;}#sk-container-id-12 div.sk-toggleable {background-color: white;}#sk-container-id-12 label.sk-toggleable__label {cursor: pointer;display: block;width: 100%;margin-bottom: 0;padding: 0.3em;box-sizing: border-box;text-align: center;}#sk-container-id-12 label.sk-toggleable__label-arrow:before {content: \"▸\";float: left;margin-right: 0.25em;color: #696969;}#sk-container-id-12 label.sk-toggleable__label-arrow:hover:before {color: black;}#sk-container-id-12 div.sk-estimator:hover label.sk-toggleable__label-arrow:before {color: black;}#sk-container-id-12 div.sk-toggleable__content {max-height: 0;max-width: 0;overflow: hidden;text-align: left;background-color: #f0f8ff;}#sk-container-id-12 div.sk-toggleable__content pre {margin: 0.2em;color: black;border-radius: 0.25em;background-color: #f0f8ff;}#sk-container-id-12 input.sk-toggleable__control:checked~div.sk-toggleable__content {max-height: 200px;max-width: 100%;overflow: auto;}#sk-container-id-12 input.sk-toggleable__control:checked~label.sk-toggleable__label-arrow:before {content: \"▾\";}#sk-container-id-12 div.sk-estimator input.sk-toggleable__control:checked~label.sk-toggleable__label {background-color: #d4ebff;}#sk-container-id-12 div.sk-label input.sk-toggleable__control:checked~label.sk-toggleable__label {background-color: #d4ebff;}#sk-container-id-12 input.sk-hidden--visually {border: 0;clip: rect(1px 1px 1px 1px);clip: rect(1px, 1px, 1px, 1px);height: 1px;margin: -1px;overflow: hidden;padding: 0;position: absolute;width: 1px;}#sk-container-id-12 div.sk-estimator {font-family: monospace;background-color: #f0f8ff;border: 1px dotted black;border-radius: 0.25em;box-sizing: border-box;margin-bottom: 0.5em;}#sk-container-id-12 div.sk-estimator:hover {background-color: #d4ebff;}#sk-container-id-12 div.sk-parallel-item::after {content: \"\";width: 100%;border-bottom: 1px solid gray;flex-grow: 1;}#sk-container-id-12 div.sk-label:hover label.sk-toggleable__label {background-color: #d4ebff;}#sk-container-id-12 div.sk-serial::before {content: \"\";position: absolute;border-left: 1px solid gray;box-sizing: border-box;top: 0;bottom: 0;left: 50%;z-index: 0;}#sk-container-id-12 div.sk-serial {display: flex;flex-direction: column;align-items: center;background-color: white;padding-right: 0.2em;padding-left: 0.2em;position: relative;}#sk-container-id-12 div.sk-item {position: relative;z-index: 1;}#sk-container-id-12 div.sk-parallel {display: flex;align-items: stretch;justify-content: center;background-color: white;position: relative;}#sk-container-id-12 div.sk-item::before, #sk-container-id-12 div.sk-parallel-item::before {content: \"\";position: absolute;border-left: 1px solid gray;box-sizing: border-box;top: 0;bottom: 0;left: 50%;z-index: -1;}#sk-container-id-12 div.sk-parallel-item {display: flex;flex-direction: column;z-index: 1;position: relative;background-color: white;}#sk-container-id-12 div.sk-parallel-item:first-child::after {align-self: flex-end;width: 50%;}#sk-container-id-12 div.sk-parallel-item:last-child::after {align-self: flex-start;width: 50%;}#sk-container-id-12 div.sk-parallel-item:only-child::after {width: 0;}#sk-container-id-12 div.sk-dashed-wrapped {border: 1px dashed gray;margin: 0 0.4em 0.5em 0.4em;box-sizing: border-box;padding-bottom: 0.4em;background-color: white;}#sk-container-id-12 div.sk-label label {font-family: monospace;font-weight: bold;display: inline-block;line-height: 1.2em;}#sk-container-id-12 div.sk-label-container {text-align: center;}#sk-container-id-12 div.sk-container {/* jupyter's `normalize.less` sets `[hidden] { display: none; }` but bootstrap.min.css set `[hidden] { display: none !important; }` so we also need the `!important` here to be able to override the default hidden behavior on the sphinx rendered scikit-learn.org. See: https://github.com/scikit-learn/scikit-learn/issues/21755 */display: inline-block !important;position: relative;}#sk-container-id-12 div.sk-text-repr-fallback {display: none;}</style><div id=\"sk-container-id-12\" class=\"sk-top-container\"><div class=\"sk-text-repr-fallback\"><pre>LGBMClassifier(max_depth=6, n_estimators=70, num_leaves=25)</pre><b>In a Jupyter environment, please rerun this cell to show the HTML representation or trust the notebook. <br />On GitHub, the HTML representation is unable to render, please try loading this page with nbviewer.org.</b></div><div class=\"sk-container\" hidden><div class=\"sk-item\"><div class=\"sk-estimator sk-toggleable\"><input class=\"sk-toggleable__control sk-hidden--visually\" id=\"sk-estimator-id-12\" type=\"checkbox\" checked><label for=\"sk-estimator-id-12\" class=\"sk-toggleable__label sk-toggleable__label-arrow\">LGBMClassifier</label><div class=\"sk-toggleable__content\"><pre>LGBMClassifier(max_depth=6, n_estimators=70, num_leaves=25)</pre></div></div></div></div></div>"
      ],
      "text/plain": [
       "LGBMClassifier(max_depth=6, n_estimators=70, num_leaves=25)"
      ]
     },
     "execution_count": 217,
     "metadata": {},
     "output_type": "execute_result"
    }
   ],
   "source": [
    "lgb.fit(X_train, y_train)"
   ]
  },
  {
   "cell_type": "code",
   "execution_count": null,
   "id": "1bd4efe3-6e48-4980-a36b-c8accaaaa3f8",
   "metadata": {},
   "outputs": [],
   "source": []
  },
  {
   "cell_type": "code",
   "execution_count": 218,
   "id": "93ec2ab6-0b9d-4051-a27e-6111c263eee7",
   "metadata": {},
   "outputs": [
    {
     "name": "stdout",
     "output_type": "stream",
     "text": [
      "              precision    recall  f1-score   support\n",
      "\n",
      "           0       0.89      1.00      0.94    180497\n",
      "           1       0.65      0.07      0.12     23780\n",
      "\n",
      "    accuracy                           0.89    204277\n",
      "   macro avg       0.77      0.53      0.53    204277\n",
      "weighted avg       0.86      0.89      0.84    204277\n",
      "\n"
     ]
    }
   ],
   "source": [
    "y_pred_train = lgb.predict(X_train)\n",
    "print(classification_report(y_train, y_pred_train))"
   ]
  },
  {
   "cell_type": "code",
   "execution_count": 220,
   "id": "c85c8422-e05d-4cbb-8f15-7f62f9460096",
   "metadata": {},
   "outputs": [
    {
     "name": "stdout",
     "output_type": "stream",
     "text": [
      "0.7682546417614242\n"
     ]
    }
   ],
   "source": [
    "print(roc_auc_score(y_train, lgb.predict_proba(X_train)[:, 1]))"
   ]
  },
  {
   "cell_type": "code",
   "execution_count": 222,
   "id": "d50c05f0-2de7-4972-b007-dbc2fca579aa",
   "metadata": {},
   "outputs": [
    {
     "name": "stdout",
     "output_type": "stream",
     "text": [
      "0.7575154248114204\n"
     ]
    }
   ],
   "source": [
    "print(roc_auc_score(y_test, lgb.predict_proba(X_test)[:, 1]))"
   ]
  },
  {
   "cell_type": "code",
   "execution_count": 221,
   "id": "d6404236-b5b9-4b96-b324-736a8f120109",
   "metadata": {},
   "outputs": [
    {
     "name": "stdout",
     "output_type": "stream",
     "text": [
      "              precision    recall  f1-score   support\n",
      "\n",
      "           0       0.89      0.99      0.94     45197\n",
      "           1       0.59      0.06      0.11      5873\n",
      "\n",
      "    accuracy                           0.89     51070\n",
      "   macro avg       0.74      0.53      0.52     51070\n",
      "weighted avg       0.86      0.89      0.84     51070\n",
      "\n"
     ]
    }
   ],
   "source": [
    "# Avaliando modelo\n",
    "y_pred_test = lgb.predict(X_test)\n",
    "print(classification_report(y_test, y_pred_test))"
   ]
  },
  {
   "cell_type": "code",
   "execution_count": 109,
   "id": "6de802c3-c15d-4d52-94f6-2c32ff0c004c",
   "metadata": {
    "tags": []
   },
   "outputs": [],
   "source": [
    "# KS "
   ]
  },
  {
   "cell_type": "code",
   "execution_count": 182,
   "id": "51b7b455-8eb5-460e-bf1d-4fa8de3dd995",
   "metadata": {},
   "outputs": [
    {
     "name": "stdout",
     "output_type": "stream",
     "text": [
      "0.3958476498026315\n"
     ]
    }
   ],
   "source": [
    "y_train_proba = lgb.predict_proba(X_train)[:, 1]\n",
    "print(ks_2samp(y_train_proba[y_train==0], y_train_proba[y_train==1]).statistic)"
   ]
  },
  {
   "cell_type": "code",
   "execution_count": 183,
   "id": "41e9922c-c05b-466f-ac0f-4c7cb50d6da4",
   "metadata": {},
   "outputs": [
    {
     "name": "stdout",
     "output_type": "stream",
     "text": [
      "0.3857667864526674\n"
     ]
    }
   ],
   "source": [
    "y_test_proba = lgb.predict_proba(X_test)[:, 1]\n",
    "print(ks_2samp(y_test_proba[y_test==0], y_test_proba[y_test==1]).statistic)"
   ]
  },
  {
   "cell_type": "code",
   "execution_count": null,
   "id": "872b6f68-41f0-414f-a1df-a7e707abf0bd",
   "metadata": {},
   "outputs": [],
   "source": []
  },
  {
   "cell_type": "code",
   "execution_count": 224,
   "id": "890d8cee-8e12-416e-8746-2e5822442ce3",
   "metadata": {},
   "outputs": [],
   "source": [
    "importance = pd.DataFrame({'variaveis': X.columns, 'importancia': lgb.feature_importances_})"
   ]
  },
  {
   "cell_type": "code",
   "execution_count": 227,
   "id": "f73bfd99-c1d5-4332-81a5-b7536e8eccfa",
   "metadata": {},
   "outputs": [
    {
     "data": {
      "text/html": [
       "<div>\n",
       "<style scoped>\n",
       "    .dataframe tbody tr th:only-of-type {\n",
       "        vertical-align: middle;\n",
       "    }\n",
       "\n",
       "    .dataframe tbody tr th {\n",
       "        vertical-align: top;\n",
       "    }\n",
       "\n",
       "    .dataframe thead th {\n",
       "        text-align: right;\n",
       "    }\n",
       "</style>\n",
       "<table border=\"1\" class=\"dataframe\">\n",
       "  <thead>\n",
       "    <tr style=\"text-align: right;\">\n",
       "      <th></th>\n",
       "      <th>variaveis</th>\n",
       "      <th>importancia</th>\n",
       "    </tr>\n",
       "  </thead>\n",
       "  <tbody>\n",
       "    <tr>\n",
       "      <th>1</th>\n",
       "      <td>Income</td>\n",
       "      <td>246</td>\n",
       "    </tr>\n",
       "    <tr>\n",
       "      <th>2</th>\n",
       "      <td>LoanAmount</td>\n",
       "      <td>241</td>\n",
       "    </tr>\n",
       "    <tr>\n",
       "      <th>6</th>\n",
       "      <td>InterestRate</td>\n",
       "      <td>236</td>\n",
       "    </tr>\n",
       "    <tr>\n",
       "      <th>4</th>\n",
       "      <td>MonthsEmployed</td>\n",
       "      <td>218</td>\n",
       "    </tr>\n",
       "    <tr>\n",
       "      <th>0</th>\n",
       "      <td>Age</td>\n",
       "      <td>197</td>\n",
       "    </tr>\n",
       "    <tr>\n",
       "      <th>3</th>\n",
       "      <td>CreditScore</td>\n",
       "      <td>156</td>\n",
       "    </tr>\n",
       "    <tr>\n",
       "      <th>7</th>\n",
       "      <td>DTIRatio</td>\n",
       "      <td>93</td>\n",
       "    </tr>\n",
       "    <tr>\n",
       "      <th>9</th>\n",
       "      <td>EmploymentType</td>\n",
       "      <td>75</td>\n",
       "    </tr>\n",
       "    <tr>\n",
       "      <th>5</th>\n",
       "      <td>NumCreditLines</td>\n",
       "      <td>54</td>\n",
       "    </tr>\n",
       "    <tr>\n",
       "      <th>8</th>\n",
       "      <td>Education</td>\n",
       "      <td>53</td>\n",
       "    </tr>\n",
       "    <tr>\n",
       "      <th>10</th>\n",
       "      <td>MaritalStatus</td>\n",
       "      <td>40</td>\n",
       "    </tr>\n",
       "    <tr>\n",
       "      <th>12</th>\n",
       "      <td>HasCoSigner</td>\n",
       "      <td>39</td>\n",
       "    </tr>\n",
       "    <tr>\n",
       "      <th>11</th>\n",
       "      <td>HasDependents</td>\n",
       "      <td>32</td>\n",
       "    </tr>\n",
       "  </tbody>\n",
       "</table>\n",
       "</div>"
      ],
      "text/plain": [
       "         variaveis  importancia\n",
       "1           Income          246\n",
       "2       LoanAmount          241\n",
       "6     InterestRate          236\n",
       "4   MonthsEmployed          218\n",
       "0              Age          197\n",
       "3      CreditScore          156\n",
       "7         DTIRatio           93\n",
       "9   EmploymentType           75\n",
       "5   NumCreditLines           54\n",
       "8        Education           53\n",
       "10   MaritalStatus           40\n",
       "12     HasCoSigner           39\n",
       "11   HasDependents           32"
      ]
     },
     "execution_count": 227,
     "metadata": {},
     "output_type": "execute_result"
    }
   ],
   "source": [
    "importance.sort_values(by='importancia', ascending=False)"
   ]
  }
 ],
 "metadata": {
  "kernelspec": {
   "display_name": "Python 3 (ipykernel)",
   "language": "python",
   "name": "python3"
  },
  "language_info": {
   "codemirror_mode": {
    "name": "ipython",
    "version": 3
   },
   "file_extension": ".py",
   "mimetype": "text/x-python",
   "name": "python",
   "nbconvert_exporter": "python",
   "pygments_lexer": "ipython3",
   "version": "3.9.16"
  }
 },
 "nbformat": 4,
 "nbformat_minor": 5
}
